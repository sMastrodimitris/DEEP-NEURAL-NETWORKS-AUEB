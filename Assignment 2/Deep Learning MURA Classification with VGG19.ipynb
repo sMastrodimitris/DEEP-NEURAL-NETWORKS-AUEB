{
 "cells": [
  {
   "cell_type": "markdown",
   "metadata": {
    "id": "n8BZQrDnJJMp"
   },
   "source": [
    "# Deep Learning MURA Classification with VGG19"
   ]
  },
  {
   "cell_type": "markdown",
   "metadata": {
    "id": "dOFoY7XLJXYp"
   },
   "source": [
    "## Load MURA"
   ]
  },
  {
   "cell_type": "code",
   "execution_count": null,
   "metadata": {
    "colab": {
     "base_uri": "https://localhost:8080/"
    },
    "executionInfo": {
     "elapsed": 22869,
     "status": "ok",
     "timestamp": 1687418030567,
     "user": {
      "displayName": "Σπύρος Μαστροδημήτρης",
      "userId": "05822789757280910665"
     },
     "user_tz": -180
    },
    "id": "fLVt-OIu7TpK",
    "outputId": "e59b4753-aa13-46f3-b2ac-f2198e2208db"
   },
   "outputs": [
    {
     "name": "stdout",
     "output_type": "stream",
     "text": [
      "Mounted at /content/drive/\n"
     ]
    }
   ],
   "source": [
    "#Connect to google drive\n",
    "from google.colab import drive\n",
    "drive.mount('/content/drive/')"
   ]
  },
  {
   "cell_type": "code",
   "execution_count": null,
   "metadata": {
    "colab": {
     "base_uri": "https://localhost:8080/"
    },
    "executionInfo": {
     "elapsed": 169004,
     "status": "ok",
     "timestamp": 1687418199562,
     "user": {
      "displayName": "Σπύρος Μαστροδημήτρης",
      "userId": "05822789757280910665"
     },
     "user_tz": -180
    },
    "id": "6at9o0FM7icG",
    "outputId": "e9a96a78-505e-4e06-cf13-f895353093b8"
   },
   "outputs": [
    {
     "name": "stdout",
     "output_type": "stream",
     "text": [
      "--2023-06-22 07:13:50--  https://cs.stanford.edu/group/mlgroup/MURA-v1.1.zip\n",
      "Resolving cs.stanford.edu (cs.stanford.edu)... 171.64.64.64\n",
      "Connecting to cs.stanford.edu (cs.stanford.edu)|171.64.64.64|:443... connected.\n",
      "HTTP request sent, awaiting response... 200 OK\n",
      "Length: 3380245855 (3.1G) [application/zip]\n",
      "Saving to: ‘MURA-v1.1.zip’\n",
      "\n",
      "MURA-v1.1.zip       100%[===================>]   3.15G  19.4MB/s    in 2m 48s  \n",
      "\n",
      "2023-06-22 07:16:38 (19.2 MB/s) - ‘MURA-v1.1.zip’ saved [3380245855/3380245855]\n",
      "\n"
     ]
    }
   ],
   "source": [
    "#Download and unzip\n",
    "!wget 'https://cs.stanford.edu/group/mlgroup/MURA-v1.1.zip'\n",
    "\n",
    "!unzip -o -q MURA-v1.1.zip"
   ]
  },
  {
   "cell_type": "code",
   "execution_count": null,
   "metadata": {
    "id": "th7aFvQ69iKp"
   },
   "outputs": [],
   "source": [
    "drive_path='/content/drive/My Drive/MURA Challenge/data/'\n",
    "path='/content/drive/My Drive/MURA Challenge/data/MURA-v1.1/'\n",
    "colab_path='/content/MURA-v1.1/'"
   ]
  },
  {
   "cell_type": "code",
   "execution_count": null,
   "metadata": {
    "id": "H5xI9OF1-EiG"
   },
   "outputs": [],
   "source": [
    "#Read CSVs\n",
    "train_imgs_path=pd.read_csv(colab_path+'train_image_paths.csv',dtype=str,header=None,names=['Img_Path'])\n",
    "train_labels=pd.read_csv(colab_path+'train_labeled_studies.csv',dtype=str,names=['Img_Path','Label'],header=None)\n",
    "test_imgs_path=pd.read_csv(colab_path+'valid_image_paths.csv',dtype=str,header=None,names=['Img_Path'])\n",
    "test_labels=pd.read_csv(colab_path+'valid_labeled_studies.csv',dtype=str,names=['Img_Path','Label'],header=None)"
   ]
  },
  {
   "cell_type": "markdown",
   "metadata": {
    "id": "-8s-rTnnJaxf"
   },
   "source": [
    "## Load Libraries"
   ]
  },
  {
   "cell_type": "code",
   "execution_count": null,
   "metadata": {
    "id": "P7VntOLQ9_u4"
   },
   "outputs": [],
   "source": [
    "import numpy as np\n",
    "import pandas as pd\n",
    "import matplotlib.pyplot as plt\n",
    "import cv2\n",
    "%matplotlib inline\n",
    "import warnings\n",
    "warnings.filterwarnings('ignore')\n",
    "import os\n",
    "from tqdm import tqdm\n",
    "from glob import glob\n",
    "import gc\n",
    "import matplotlib.pyplot as plt"
   ]
  },
  {
   "cell_type": "code",
   "execution_count": null,
   "metadata": {
    "id": "80qXNxRjCiqb"
   },
   "outputs": [],
   "source": [
    "import tensorflow as tf\n",
    "from tensorflow import keras\n",
    "from tensorflow.keras.utils import load_img\n",
    "from tensorflow.keras.utils import img_to_array\n",
    "from tensorflow.keras.utils import array_to_img\n",
    "from keras.preprocessing.image import ImageDataGenerator\n",
    "from keras.utils import to_categorical\n",
    "import keras.backend as K\n",
    "from keras.models import *\n",
    "from keras.layers import *\n",
    "from keras.optimizers import *\n",
    "from keras.applications.vgg19 import VGG19\n",
    "from keras.callbacks import *"
   ]
  },
  {
   "cell_type": "markdown",
   "metadata": {
    "id": "hRFacfKdJfdJ"
   },
   "source": [
    "## Functions"
   ]
  },
  {
   "cell_type": "markdown",
   "metadata": {
    "id": "0AhProTsYi7T"
   },
   "source": [
    "### Data Preparation"
   ]
  },
  {
   "cell_type": "code",
   "execution_count": null,
   "metadata": {
    "id": "D9XItU6cBVyR"
   },
   "outputs": [],
   "source": [
    "def keep_dir(dir):\n",
    "  x=list(dir.split('/'))\n",
    "  x='/'.join(x[:5])\n",
    "  x=x+'/'\n",
    "  return x\n",
    "def keep_dir2(dir):\n",
    "  x=list(dir.split('/'))\n",
    "  x='/'.join(x[3:5])\n",
    "  x=x+'/'\n",
    "  return x"
   ]
  },
  {
   "cell_type": "code",
   "execution_count": null,
   "metadata": {
    "id": "D2QFsEL9BZsl"
   },
   "outputs": [],
   "source": [
    "train_imgs_path['path_to_merge']=train_imgs_path['Img_Path'].apply(lambda x: keep_dir(x))\n",
    "test_imgs_path['path_to_merge']=test_imgs_path['Img_Path'].apply(lambda x: keep_dir(x))"
   ]
  },
  {
   "cell_type": "code",
   "execution_count": null,
   "metadata": {
    "id": "nHEsjIOWBc3V"
   },
   "outputs": [],
   "source": [
    "train_data=train_imgs_path.merge(train_labels,how='inner',left_on='path_to_merge', right_on='Img_Path')\n",
    "test_data=test_imgs_path.merge(test_labels,how='inner',left_on='path_to_merge', right_on='Img_Path')"
   ]
  },
  {
   "cell_type": "code",
   "execution_count": null,
   "metadata": {
    "id": "ALsnFljeBhGc"
   },
   "outputs": [],
   "source": [
    "train_data['Body_Part']=train_data['Img_Path_x'].apply(lambda x: str(x.split('/')[2]))\n",
    "test_data['Body_Part']=test_data['Img_Path_x'].apply(lambda x: str(x.split('/')[2]))\n",
    "train_data['Patient/Study']=train_data['Img_Path_x'].apply(lambda x: str(x.split('/')[3:5]))\n",
    "test_data['Patient/Study']=test_data['Img_Path_x'].apply(lambda x: str(x.split('/')[3:5]))\n",
    "train_data['Patient/Study']=train_data['Img_Path_x'].apply(lambda x: keep_dir2(x) )\n",
    "test_data['Patient/Study']=test_data['Img_Path_x'].apply(lambda x: keep_dir2(x) )\n",
    "train_data.drop(columns=['path_to_merge','Img_Path_y'],inplace=True)\n",
    "train_data.rename(columns={'Img_Path_x':'Img_Path'},inplace=True)\n",
    "test_data.drop(columns=['path_to_merge','Img_Path_y'],inplace=True)\n",
    "test_data.rename(columns={'Img_Path_x':'Img_Path'},inplace=True)\n",
    "\n",
    "test_labels['Body_Part']=test_labels['Img_Path'].apply(lambda x: str(x.split('/')[2]))\n",
    "test_labels['Patient/Study']=test_labels['Img_Path'].apply(lambda x:  keep_dir2(x))"
   ]
  },
  {
   "cell_type": "markdown",
   "metadata": {
    "id": "-zSJBRL6YoKC"
   },
   "source": [
    "### Present Data"
   ]
  },
  {
   "cell_type": "code",
   "execution_count": null,
   "metadata": {
    "colab": {
     "base_uri": "https://localhost:8080/",
     "height": 206
    },
    "executionInfo": {
     "elapsed": 25,
     "status": "ok",
     "timestamp": 1687418240295,
     "user": {
      "displayName": "Σπύρος Μαστροδημήτρης",
      "userId": "05822789757280910665"
     },
     "user_tz": -180
    },
    "id": "9J6movVqBllV",
    "outputId": "78da349f-d98c-4332-ecc5-7f575a03fe86"
   },
   "outputs": [
    {
     "data": {
      "text/html": [
       "\n",
       "  <div id=\"df-38027e41-c251-46ad-8ba3-bbca4ec04d5d\">\n",
       "    <div class=\"colab-df-container\">\n",
       "      <div>\n",
       "<style scoped>\n",
       "    .dataframe tbody tr th:only-of-type {\n",
       "        vertical-align: middle;\n",
       "    }\n",
       "\n",
       "    .dataframe tbody tr th {\n",
       "        vertical-align: top;\n",
       "    }\n",
       "\n",
       "    .dataframe thead th {\n",
       "        text-align: right;\n",
       "    }\n",
       "</style>\n",
       "<table border=\"1\" class=\"dataframe\">\n",
       "  <thead>\n",
       "    <tr style=\"text-align: right;\">\n",
       "      <th></th>\n",
       "      <th>Img_Path</th>\n",
       "      <th>Label</th>\n",
       "      <th>Body_Part</th>\n",
       "      <th>Patient/Study</th>\n",
       "    </tr>\n",
       "  </thead>\n",
       "  <tbody>\n",
       "    <tr>\n",
       "      <th>0</th>\n",
       "      <td>MURA-v1.1/train/XR_SHOULDER/patient00001/study...</td>\n",
       "      <td>1</td>\n",
       "      <td>XR_SHOULDER</td>\n",
       "      <td>patient00001/study1_positive/</td>\n",
       "    </tr>\n",
       "    <tr>\n",
       "      <th>1</th>\n",
       "      <td>MURA-v1.1/train/XR_SHOULDER/patient00001/study...</td>\n",
       "      <td>1</td>\n",
       "      <td>XR_SHOULDER</td>\n",
       "      <td>patient00001/study1_positive/</td>\n",
       "    </tr>\n",
       "    <tr>\n",
       "      <th>2</th>\n",
       "      <td>MURA-v1.1/train/XR_SHOULDER/patient00001/study...</td>\n",
       "      <td>1</td>\n",
       "      <td>XR_SHOULDER</td>\n",
       "      <td>patient00001/study1_positive/</td>\n",
       "    </tr>\n",
       "    <tr>\n",
       "      <th>3</th>\n",
       "      <td>MURA-v1.1/train/XR_SHOULDER/patient00002/study...</td>\n",
       "      <td>1</td>\n",
       "      <td>XR_SHOULDER</td>\n",
       "      <td>patient00002/study1_positive/</td>\n",
       "    </tr>\n",
       "    <tr>\n",
       "      <th>4</th>\n",
       "      <td>MURA-v1.1/train/XR_SHOULDER/patient00002/study...</td>\n",
       "      <td>1</td>\n",
       "      <td>XR_SHOULDER</td>\n",
       "      <td>patient00002/study1_positive/</td>\n",
       "    </tr>\n",
       "  </tbody>\n",
       "</table>\n",
       "</div>\n",
       "      <button class=\"colab-df-convert\" onclick=\"convertToInteractive('df-38027e41-c251-46ad-8ba3-bbca4ec04d5d')\"\n",
       "              title=\"Convert this dataframe to an interactive table.\"\n",
       "              style=\"display:none;\">\n",
       "        \n",
       "  <svg xmlns=\"http://www.w3.org/2000/svg\" height=\"24px\"viewBox=\"0 0 24 24\"\n",
       "       width=\"24px\">\n",
       "    <path d=\"M0 0h24v24H0V0z\" fill=\"none\"/>\n",
       "    <path d=\"M18.56 5.44l.94 2.06.94-2.06 2.06-.94-2.06-.94-.94-2.06-.94 2.06-2.06.94zm-11 1L8.5 8.5l.94-2.06 2.06-.94-2.06-.94L8.5 2.5l-.94 2.06-2.06.94zm10 10l.94 2.06.94-2.06 2.06-.94-2.06-.94-.94-2.06-.94 2.06-2.06.94z\"/><path d=\"M17.41 7.96l-1.37-1.37c-.4-.4-.92-.59-1.43-.59-.52 0-1.04.2-1.43.59L10.3 9.45l-7.72 7.72c-.78.78-.78 2.05 0 2.83L4 21.41c.39.39.9.59 1.41.59.51 0 1.02-.2 1.41-.59l7.78-7.78 2.81-2.81c.8-.78.8-2.07 0-2.86zM5.41 20L4 18.59l7.72-7.72 1.47 1.35L5.41 20z\"/>\n",
       "  </svg>\n",
       "      </button>\n",
       "      \n",
       "  <style>\n",
       "    .colab-df-container {\n",
       "      display:flex;\n",
       "      flex-wrap:wrap;\n",
       "      gap: 12px;\n",
       "    }\n",
       "\n",
       "    .colab-df-convert {\n",
       "      background-color: #E8F0FE;\n",
       "      border: none;\n",
       "      border-radius: 50%;\n",
       "      cursor: pointer;\n",
       "      display: none;\n",
       "      fill: #1967D2;\n",
       "      height: 32px;\n",
       "      padding: 0 0 0 0;\n",
       "      width: 32px;\n",
       "    }\n",
       "\n",
       "    .colab-df-convert:hover {\n",
       "      background-color: #E2EBFA;\n",
       "      box-shadow: 0px 1px 2px rgba(60, 64, 67, 0.3), 0px 1px 3px 1px rgba(60, 64, 67, 0.15);\n",
       "      fill: #174EA6;\n",
       "    }\n",
       "\n",
       "    [theme=dark] .colab-df-convert {\n",
       "      background-color: #3B4455;\n",
       "      fill: #D2E3FC;\n",
       "    }\n",
       "\n",
       "    [theme=dark] .colab-df-convert:hover {\n",
       "      background-color: #434B5C;\n",
       "      box-shadow: 0px 1px 3px 1px rgba(0, 0, 0, 0.15);\n",
       "      filter: drop-shadow(0px 1px 2px rgba(0, 0, 0, 0.3));\n",
       "      fill: #FFFFFF;\n",
       "    }\n",
       "  </style>\n",
       "\n",
       "      <script>\n",
       "        const buttonEl =\n",
       "          document.querySelector('#df-38027e41-c251-46ad-8ba3-bbca4ec04d5d button.colab-df-convert');\n",
       "        buttonEl.style.display =\n",
       "          google.colab.kernel.accessAllowed ? 'block' : 'none';\n",
       "\n",
       "        async function convertToInteractive(key) {\n",
       "          const element = document.querySelector('#df-38027e41-c251-46ad-8ba3-bbca4ec04d5d');\n",
       "          const dataTable =\n",
       "            await google.colab.kernel.invokeFunction('convertToInteractive',\n",
       "                                                     [key], {});\n",
       "          if (!dataTable) return;\n",
       "\n",
       "          const docLinkHtml = 'Like what you see? Visit the ' +\n",
       "            '<a target=\"_blank\" href=https://colab.research.google.com/notebooks/data_table.ipynb>data table notebook</a>'\n",
       "            + ' to learn more about interactive tables.';\n",
       "          element.innerHTML = '';\n",
       "          dataTable['output_type'] = 'display_data';\n",
       "          await google.colab.output.renderOutput(dataTable, element);\n",
       "          const docLink = document.createElement('div');\n",
       "          docLink.innerHTML = docLinkHtml;\n",
       "          element.appendChild(docLink);\n",
       "        }\n",
       "      </script>\n",
       "    </div>\n",
       "  </div>\n",
       "  "
      ],
      "text/plain": [
       "                                            Img_Path Label    Body_Part  \\\n",
       "0  MURA-v1.1/train/XR_SHOULDER/patient00001/study...     1  XR_SHOULDER   \n",
       "1  MURA-v1.1/train/XR_SHOULDER/patient00001/study...     1  XR_SHOULDER   \n",
       "2  MURA-v1.1/train/XR_SHOULDER/patient00001/study...     1  XR_SHOULDER   \n",
       "3  MURA-v1.1/train/XR_SHOULDER/patient00002/study...     1  XR_SHOULDER   \n",
       "4  MURA-v1.1/train/XR_SHOULDER/patient00002/study...     1  XR_SHOULDER   \n",
       "\n",
       "                   Patient/Study  \n",
       "0  patient00001/study1_positive/  \n",
       "1  patient00001/study1_positive/  \n",
       "2  patient00001/study1_positive/  \n",
       "3  patient00002/study1_positive/  \n",
       "4  patient00002/study1_positive/  "
      ]
     },
     "execution_count": 12,
     "metadata": {},
     "output_type": "execute_result"
    }
   ],
   "source": [
    "train_data.head()"
   ]
  },
  {
   "cell_type": "code",
   "execution_count": null,
   "metadata": {
    "colab": {
     "base_uri": "https://localhost:8080/",
     "height": 206
    },
    "executionInfo": {
     "elapsed": 26,
     "status": "ok",
     "timestamp": 1687418240298,
     "user": {
      "displayName": "Σπύρος Μαστροδημήτρης",
      "userId": "05822789757280910665"
     },
     "user_tz": -180
    },
    "id": "udeTmzABFUzf",
    "outputId": "7a704092-65fc-4d2c-a60a-8e8a0d506fef"
   },
   "outputs": [
    {
     "data": {
      "text/html": [
       "\n",
       "  <div id=\"df-da9e5a1c-c0c8-4ff7-aa88-a92e848012d9\">\n",
       "    <div class=\"colab-df-container\">\n",
       "      <div>\n",
       "<style scoped>\n",
       "    .dataframe tbody tr th:only-of-type {\n",
       "        vertical-align: middle;\n",
       "    }\n",
       "\n",
       "    .dataframe tbody tr th {\n",
       "        vertical-align: top;\n",
       "    }\n",
       "\n",
       "    .dataframe thead th {\n",
       "        text-align: right;\n",
       "    }\n",
       "</style>\n",
       "<table border=\"1\" class=\"dataframe\">\n",
       "  <thead>\n",
       "    <tr style=\"text-align: right;\">\n",
       "      <th></th>\n",
       "      <th>Img_Path</th>\n",
       "      <th>Label</th>\n",
       "      <th>Body_Part</th>\n",
       "      <th>Patient/Study</th>\n",
       "    </tr>\n",
       "  </thead>\n",
       "  <tbody>\n",
       "    <tr>\n",
       "      <th>0</th>\n",
       "      <td>MURA-v1.1/valid/XR_WRIST/patient11185/study1_p...</td>\n",
       "      <td>1</td>\n",
       "      <td>XR_WRIST</td>\n",
       "      <td>patient11185/study1_positive/</td>\n",
       "    </tr>\n",
       "    <tr>\n",
       "      <th>1</th>\n",
       "      <td>MURA-v1.1/valid/XR_WRIST/patient11185/study1_p...</td>\n",
       "      <td>1</td>\n",
       "      <td>XR_WRIST</td>\n",
       "      <td>patient11185/study1_positive/</td>\n",
       "    </tr>\n",
       "    <tr>\n",
       "      <th>2</th>\n",
       "      <td>MURA-v1.1/valid/XR_WRIST/patient11185/study1_p...</td>\n",
       "      <td>1</td>\n",
       "      <td>XR_WRIST</td>\n",
       "      <td>patient11185/study1_positive/</td>\n",
       "    </tr>\n",
       "    <tr>\n",
       "      <th>3</th>\n",
       "      <td>MURA-v1.1/valid/XR_WRIST/patient11185/study1_p...</td>\n",
       "      <td>1</td>\n",
       "      <td>XR_WRIST</td>\n",
       "      <td>patient11185/study1_positive/</td>\n",
       "    </tr>\n",
       "    <tr>\n",
       "      <th>4</th>\n",
       "      <td>MURA-v1.1/valid/XR_WRIST/patient11186/study1_p...</td>\n",
       "      <td>1</td>\n",
       "      <td>XR_WRIST</td>\n",
       "      <td>patient11186/study1_positive/</td>\n",
       "    </tr>\n",
       "  </tbody>\n",
       "</table>\n",
       "</div>\n",
       "      <button class=\"colab-df-convert\" onclick=\"convertToInteractive('df-da9e5a1c-c0c8-4ff7-aa88-a92e848012d9')\"\n",
       "              title=\"Convert this dataframe to an interactive table.\"\n",
       "              style=\"display:none;\">\n",
       "        \n",
       "  <svg xmlns=\"http://www.w3.org/2000/svg\" height=\"24px\"viewBox=\"0 0 24 24\"\n",
       "       width=\"24px\">\n",
       "    <path d=\"M0 0h24v24H0V0z\" fill=\"none\"/>\n",
       "    <path d=\"M18.56 5.44l.94 2.06.94-2.06 2.06-.94-2.06-.94-.94-2.06-.94 2.06-2.06.94zm-11 1L8.5 8.5l.94-2.06 2.06-.94-2.06-.94L8.5 2.5l-.94 2.06-2.06.94zm10 10l.94 2.06.94-2.06 2.06-.94-2.06-.94-.94-2.06-.94 2.06-2.06.94z\"/><path d=\"M17.41 7.96l-1.37-1.37c-.4-.4-.92-.59-1.43-.59-.52 0-1.04.2-1.43.59L10.3 9.45l-7.72 7.72c-.78.78-.78 2.05 0 2.83L4 21.41c.39.39.9.59 1.41.59.51 0 1.02-.2 1.41-.59l7.78-7.78 2.81-2.81c.8-.78.8-2.07 0-2.86zM5.41 20L4 18.59l7.72-7.72 1.47 1.35L5.41 20z\"/>\n",
       "  </svg>\n",
       "      </button>\n",
       "      \n",
       "  <style>\n",
       "    .colab-df-container {\n",
       "      display:flex;\n",
       "      flex-wrap:wrap;\n",
       "      gap: 12px;\n",
       "    }\n",
       "\n",
       "    .colab-df-convert {\n",
       "      background-color: #E8F0FE;\n",
       "      border: none;\n",
       "      border-radius: 50%;\n",
       "      cursor: pointer;\n",
       "      display: none;\n",
       "      fill: #1967D2;\n",
       "      height: 32px;\n",
       "      padding: 0 0 0 0;\n",
       "      width: 32px;\n",
       "    }\n",
       "\n",
       "    .colab-df-convert:hover {\n",
       "      background-color: #E2EBFA;\n",
       "      box-shadow: 0px 1px 2px rgba(60, 64, 67, 0.3), 0px 1px 3px 1px rgba(60, 64, 67, 0.15);\n",
       "      fill: #174EA6;\n",
       "    }\n",
       "\n",
       "    [theme=dark] .colab-df-convert {\n",
       "      background-color: #3B4455;\n",
       "      fill: #D2E3FC;\n",
       "    }\n",
       "\n",
       "    [theme=dark] .colab-df-convert:hover {\n",
       "      background-color: #434B5C;\n",
       "      box-shadow: 0px 1px 3px 1px rgba(0, 0, 0, 0.15);\n",
       "      filter: drop-shadow(0px 1px 2px rgba(0, 0, 0, 0.3));\n",
       "      fill: #FFFFFF;\n",
       "    }\n",
       "  </style>\n",
       "\n",
       "      <script>\n",
       "        const buttonEl =\n",
       "          document.querySelector('#df-da9e5a1c-c0c8-4ff7-aa88-a92e848012d9 button.colab-df-convert');\n",
       "        buttonEl.style.display =\n",
       "          google.colab.kernel.accessAllowed ? 'block' : 'none';\n",
       "\n",
       "        async function convertToInteractive(key) {\n",
       "          const element = document.querySelector('#df-da9e5a1c-c0c8-4ff7-aa88-a92e848012d9');\n",
       "          const dataTable =\n",
       "            await google.colab.kernel.invokeFunction('convertToInteractive',\n",
       "                                                     [key], {});\n",
       "          if (!dataTable) return;\n",
       "\n",
       "          const docLinkHtml = 'Like what you see? Visit the ' +\n",
       "            '<a target=\"_blank\" href=https://colab.research.google.com/notebooks/data_table.ipynb>data table notebook</a>'\n",
       "            + ' to learn more about interactive tables.';\n",
       "          element.innerHTML = '';\n",
       "          dataTable['output_type'] = 'display_data';\n",
       "          await google.colab.output.renderOutput(dataTable, element);\n",
       "          const docLink = document.createElement('div');\n",
       "          docLink.innerHTML = docLinkHtml;\n",
       "          element.appendChild(docLink);\n",
       "        }\n",
       "      </script>\n",
       "    </div>\n",
       "  </div>\n",
       "  "
      ],
      "text/plain": [
       "                                            Img_Path Label Body_Part  \\\n",
       "0  MURA-v1.1/valid/XR_WRIST/patient11185/study1_p...     1  XR_WRIST   \n",
       "1  MURA-v1.1/valid/XR_WRIST/patient11185/study1_p...     1  XR_WRIST   \n",
       "2  MURA-v1.1/valid/XR_WRIST/patient11185/study1_p...     1  XR_WRIST   \n",
       "3  MURA-v1.1/valid/XR_WRIST/patient11185/study1_p...     1  XR_WRIST   \n",
       "4  MURA-v1.1/valid/XR_WRIST/patient11186/study1_p...     1  XR_WRIST   \n",
       "\n",
       "                   Patient/Study  \n",
       "0  patient11185/study1_positive/  \n",
       "1  patient11185/study1_positive/  \n",
       "2  patient11185/study1_positive/  \n",
       "3  patient11185/study1_positive/  \n",
       "4  patient11186/study1_positive/  "
      ]
     },
     "execution_count": 13,
     "metadata": {},
     "output_type": "execute_result"
    }
   ],
   "source": [
    "test_data.head()"
   ]
  },
  {
   "cell_type": "markdown",
   "metadata": {
    "id": "Ac9qKFxMZYUr"
   },
   "source": [
    "### Shuffle Data"
   ]
  },
  {
   "cell_type": "code",
   "execution_count": null,
   "metadata": {
    "id": "xtKOjO9uB25M"
   },
   "outputs": [],
   "source": [
    "shuffled=train_data.sample(frac=1)\n",
    "msk = np.random.rand(len(shuffled)) <0.8\n",
    "train = shuffled[msk]\n",
    "val= shuffled[~msk]"
   ]
  },
  {
   "cell_type": "markdown",
   "metadata": {
    "id": "Ca7655u0YuZG"
   },
   "source": [
    "### Create Evaluation Functions"
   ]
  },
  {
   "cell_type": "code",
   "execution_count": null,
   "metadata": {
    "id": "BmRXwshQBoq0"
   },
   "outputs": [],
   "source": [
    "#Recall-batch-wise average of recall\n",
    "def recall(y_true, y_pred):\n",
    "    true_positives = K.sum(K.round(K.clip(y_true * y_pred, 0, 1)))\n",
    "    possible_positives = K.sum(K.round(K.clip(y_true, 0, 1)))\n",
    "    recall = true_positives / (possible_positives + K.epsilon())\n",
    "    return recall\n",
    "\n",
    "#Precission- batch-wise average of precision\n",
    "def precision(y_true, y_pred):\n",
    "    true_positives = K.sum(K.round(K.clip(y_true * y_pred, 0, 1)))\n",
    "    predicted_positives = K.sum(K.round(K.clip(y_pred, 0, 1)))\n",
    "    precision = true_positives / (predicted_positives + K.epsilon())\n",
    "    return precision\n",
    "\n",
    "#F1\n",
    "def f1(y_true, y_pred):\n",
    "    p = precision(y_true, y_pred)\n",
    "    r = recall(y_true, y_pred)\n",
    "    return 2 * ((p * r) / (p + r))\n",
    "\n",
    "#Garbage collection\n",
    "def clean_up(model):\n",
    "    K.clear_session()\n",
    "    del model\n",
    "    gc.collect()"
   ]
  },
  {
   "cell_type": "markdown",
   "metadata": {
    "id": "SXzSVxG_ZM9R"
   },
   "source": [
    "### History Function"
   ]
  },
  {
   "cell_type": "code",
   "execution_count": null,
   "metadata": {
    "id": "a3057FoeBwhc"
   },
   "outputs": [],
   "source": [
    "# for visualizing the training progress of our models\n",
    "def viz_history(hs_dict,metric):\n",
    "  plt.style.use('dark_background')\n",
    "  plt.rcParams['figure.figsize'] = [15, 8]\n",
    "  plt.rcParams['font.size'] = 16\n",
    "  plt.clf()\n",
    "  for model in hs_dict.keys():\n",
    "    plt.plot(hs_dict[model].history[metric],label='{0:s} train {1:s}'.format(model, metric))\n",
    "    plt.plot(hs_dict[model].history['val_{0:s}'.format(metric)],label='{0:s} validation {1:s}'.format(model, metric))\n",
    "    plt.ylabel(metric)\n",
    "    plt.xlabel('epoch')\n",
    "    plt.legend()\n",
    "  plt.show()"
   ]
  },
  {
   "cell_type": "markdown",
   "metadata": {
    "id": "owKLIbp-ZdqU"
   },
   "source": [
    "### Model Creation"
   ]
  },
  {
   "cell_type": "code",
   "execution_count": null,
   "metadata": {
    "id": "UTzCytvXClub"
   },
   "outputs": [],
   "source": [
    "#Model Architecture\n",
    "def configurable_train_model(\n",
    "        upper_layers_optimizer,\n",
    "        full_network_optimizer,\n",
    "        upper_layers_epochs=15,\n",
    "        full_network_epochs=10,\n",
    "        body_type='XR_ELBOW',\n",
    "        input_shape=(224,224,3),\n",
    "        mlp_hidden_layers=[512],\n",
    "        mlp_hidden_activation='relu',\n",
    "        mlp_dropout=0.2,\n",
    "        output_activation='softmax',\n",
    "        #Add pretrained model\n",
    "        pretrained_model=VGG19,\n",
    "        batch_norm=True,\n",
    "        callbacks_upper=None,\n",
    "        callbacks_full=None,\n",
    "        batch_size=32,\n",
    "        class_weights=None,\n",
    "        classes=2,\n",
    "        verbose=1):\n",
    "\n",
    "    np.random.seed(1402) # Define seed for reproducible experiments.\n",
    "\n",
    "    train_datagen = ImageDataGenerator(\n",
    "      rescale=1./255,\n",
    "      rotation_range=30,\n",
    "      horizontal_flip=True,\n",
    "  )\n",
    "\n",
    "    val_datagen=ImageDataGenerator(\n",
    "        rescale=1./255)\n",
    "\n",
    "    train_generator=train_datagen.flow_from_dataframe(\n",
    "        dataframe=train[train.Body_Part==body_type],\n",
    "        directory=None,\n",
    "        x_col=\"Img_Path\",\n",
    "        y_col=\"Label\",\n",
    "        weight_col=None,\n",
    "        target_size=(224, 224),\n",
    "        color_mode=\"rgb\",\n",
    "        classes=None,\n",
    "        class_mode=\"categorical\",\n",
    "        batch_size=batch_size,\n",
    "        shuffle=False,\n",
    "        seed=1,\n",
    "        save_to_dir=None,\n",
    "        save_prefix=\"\",\n",
    "        save_format=\"png\",\n",
    "        interpolation=\"nearest\",\n",
    "        validate_filenames=False,\n",
    "    )\n",
    "\n",
    "    val_generator=val_datagen.flow_from_dataframe(\n",
    "        dataframe=val[val.Body_Part==body_type],\n",
    "        directory=None,\n",
    "        x_col=\"Img_Path\",\n",
    "        y_col=\"Label\",\n",
    "        weight_col=None,\n",
    "        target_size=(224, 224),\n",
    "        color_mode=\"rgb\",\n",
    "        classes=None,\n",
    "        class_mode=\"categorical\",\n",
    "        batch_size=batch_size,\n",
    "        shuffle=False,\n",
    "        seed=1,\n",
    "        save_to_dir=None,\n",
    "        save_prefix=\"\",\n",
    "        save_format=\"png\",\n",
    "        interpolation=\"nearest\",\n",
    "        validate_filenames=False\n",
    "    )\n",
    "\n",
    "    #Model parameters for training\n",
    "    STEP_SIZE_TRAIN=train_generator.n//train_generator.batch_size\n",
    "    STEP_SIZE_VALID=val_generator.n//val_generator.batch_size\n",
    "\n",
    "    base_model =pretrained_model(\n",
    "        include_top=False,\n",
    "        weights='imagenet',\n",
    "        input_shape=input_shape,\n",
    "        pooling='avg'\n",
    "    )\n",
    "\n",
    "    x = base_model.output\n",
    "    #Define MLP layers\n",
    "    for i, units in enumerate(mlp_hidden_layers):\n",
    "        x = Dense(\n",
    "            units=units,\n",
    "            kernel_initializer='glorot_uniform',\n",
    "            activation=mlp_hidden_activation,\n",
    "            name='Hidden-{0:d}'.format(i + 1)\n",
    "        )(x)\n",
    "        if mlp_dropout > 0:\n",
    "            x = Dropout(rate=mlp_dropout)(x)\n",
    "\n",
    "    #Define the output layer\n",
    "    output = Dense(\n",
    "        units=classes,\n",
    "        activation=output_activation,\n",
    "        name='Output'\n",
    "    )(x)\n",
    "\n",
    "    #Define the model\n",
    "    model = Model(inputs=base_model.input, outputs=output)\n",
    "\n",
    "    #First train the upper layers for a few epochs\n",
    "    for layer in base_model.layers:\n",
    "        layer.trainable = False\n",
    "\n",
    "    #Compile the Model\n",
    "    model.compile(optimizer=upper_layers_optimizer, loss='categorical_crossentropy', metrics=['accuracy',f1])\n",
    "    if class_weights:\n",
    "      hs_upper_layers = model.fit(\n",
    "        train_generator,\n",
    "        epochs=upper_layers_epochs,\n",
    "        steps_per_epoch=STEP_SIZE_TRAIN,\n",
    "        validation_data=val_generator,\n",
    "        validation_steps=STEP_SIZE_VALID,\n",
    "        callbacks=callbacks_upper,\n",
    "        class_weight=class_weights[body_type],\n",
    "        verbose=1\n",
    "      )\n",
    "    else:\n",
    "      hs_upper_layers = model.fit(\n",
    "        train_generator,\n",
    "        epochs=upper_layers_epochs,\n",
    "        steps_per_epoch=STEP_SIZE_TRAIN,\n",
    "        validation_data=val_generator,\n",
    "        validation_steps=STEP_SIZE_VALID,\n",
    "        callbacks=callbacks_upper,\n",
    "        verbose=1\n",
    "      )\n",
    "    print('Finished training upper layers.')\n",
    "    print('------------------')\n",
    "\n",
    "    # Now train with a low learning rate\n",
    "    for layer in base_model.layers:\n",
    "        layer.trainable = True\n",
    "\n",
    "    #Compile the Model\n",
    "    model.compile(optimizer=full_network_optimizer, loss='categorical_crossentropy', metrics=['accuracy',f1])\n",
    "    model.summary()\n",
    "    if class_weights:\n",
    "      hs_full_network = model.fit(\n",
    "        train_generator,\n",
    "        epochs=full_network_epochs,\n",
    "        steps_per_epoch=STEP_SIZE_TRAIN,\n",
    "        validation_data=val_generator,\n",
    "        validation_steps=STEP_SIZE_VALID,\n",
    "        callbacks=callbacks_full,\n",
    "        class_weight=class_weights[body_type],\n",
    "        verbose=1\n",
    "      )\n",
    "    else:\n",
    "      hs_full_network = model.fit(\n",
    "        train_generator,\n",
    "        epochs=full_network_epochs,\n",
    "        steps_per_epoch=STEP_SIZE_TRAIN,\n",
    "        validation_data=val_generator,\n",
    "        validation_steps=STEP_SIZE_VALID,\n",
    "        callbacks=callbacks_full,\n",
    "        verbose=1\n",
    "      )\n",
    "    print('Finished training full network.')\n",
    "    print('------------------')\n",
    "\n",
    "    return model,  hs_full_network\n"
   ]
  },
  {
   "cell_type": "markdown",
   "metadata": {
    "id": "X08eHVFJaiar"
   },
   "source": [
    "### Model Training"
   ]
  },
  {
   "cell_type": "code",
   "execution_count": null,
   "metadata": {
    "id": "ruvB32q0D_BX"
   },
   "outputs": [],
   "source": [
    "def train_model(\n",
    "        optimizer,\n",
    "        body_type='XR_ELBOW',\n",
    "        size=224,\n",
    "        output_activation='softmax',\n",
    "        full_network_epochs=10,\n",
    "        callbacks=None,\n",
    "        batch_size=32,\n",
    "        verbose=1,\n",
    "        class_weights=None,\n",
    "        transfer_model=VGG19,\n",
    "        batch_norm=True,\n",
    "\n",
    "        ):\n",
    "\n",
    "    input_shape=(size,size,3)\n",
    "\n",
    "    train_datagen = ImageDataGenerator(\n",
    "      rescale=1./255,\n",
    "      rotation_range=30,\n",
    "      horizontal_flip=True,\n",
    "  )\n",
    "\n",
    "    train_generator=train_datagen.flow_from_dataframe(\n",
    "        dataframe=train[train.Body_Part==body_type],\n",
    "        directory=None,\n",
    "        x_col=\"Img_Path\",\n",
    "        y_col=\"Label\",\n",
    "        weight_col=None,\n",
    "        target_size=(size, size),\n",
    "        color_mode=\"rgb\",\n",
    "        classes=None,\n",
    "        class_mode=\"categorical\",\n",
    "        batch_size=batch_size,\n",
    "        shuffle=False,\n",
    "        seed=1,\n",
    "        save_to_dir=None,\n",
    "        save_prefix=\"\",\n",
    "        save_format=\"png\",\n",
    "        interpolation=\"nearest\",\n",
    "        validate_filenames=False,\n",
    "    )\n",
    "\n",
    "    val_datagen=ImageDataGenerator(\n",
    "        rescale=1./255)\n",
    "\n",
    "    val_generator=val_datagen.flow_from_dataframe(\n",
    "        dataframe=val[val.Body_Part==body_type],\n",
    "        directory=None,\n",
    "        x_col=\"Img_Path\",\n",
    "        y_col=\"Label\",\n",
    "        weight_col=None,\n",
    "        target_size=(size, size),\n",
    "        color_mode=\"rgb\",\n",
    "        classes=None,\n",
    "        class_mode=\"categorical\",\n",
    "        batch_size=batch_size,\n",
    "        shuffle=False,\n",
    "        seed=1,\n",
    "        save_to_dir=None,\n",
    "        save_prefix=\"\",\n",
    "        save_format=\"png\",\n",
    "        interpolation=\"nearest\",\n",
    "        validate_filenames=False\n",
    "    )\n",
    "\n",
    "    #model parameters for training\n",
    "    STEP_SIZE_TRAIN=train_generator.n//train_generator.batch_size\n",
    "    STEP_SIZE_VALID=val_generator.n//val_generator.batch_size\n",
    "\n",
    "\n",
    "    base_model = transfer_model(\n",
    "        include_top=False,\n",
    "        weights='imagenet',\n",
    "        input_shape=input_shape,\n",
    "        pooling='avg',\n",
    "    )\n",
    "\n",
    "    x = base_model.output\n",
    "    output = Dense(2, activation='softmax', name='predictions')(x)\n",
    "    model = Model(inputs=base_model.input, output=output)\n",
    "\n",
    "    for layer in base_model.layers:\n",
    "            layer.trainable = True\n",
    "\n",
    "    model.compile(optimizer=optimizer, loss='categorical_crossentropy', metrics=['accuracy',f1])\n",
    "    if class_weights:\n",
    "      hs_full_network = model.fit(\n",
    "        train_generator,\n",
    "        epochs=full_network_epochs,\n",
    "        steps_per_epoch=STEP_SIZE_TRAIN,\n",
    "        validation_data=val_generator,\n",
    "        validation_steps=STEP_SIZE_VALID,\n",
    "        callbacks=callbacks,\n",
    "        class_weight=class_weights[body_type],\n",
    "        verbose=1\n",
    "      )\n",
    "    else:\n",
    "      hs_full_network = model.fit(\n",
    "        train_generator,\n",
    "        epochs=full_network_epochs,\n",
    "        steps_per_epoch=STEP_SIZE_TRAIN,\n",
    "        validation_data=val_generator,\n",
    "        validation_steps=STEP_SIZE_VALID,\n",
    "        callbacks=callbacks,\n",
    "        verbose=1\n",
    "      )\n",
    "    model.summary() # Print a description of the model.\n",
    "    print('Finished training full network.')\n",
    "    print('------------------')\n",
    "\n",
    "    return model, hs_full_network"
   ]
  },
  {
   "cell_type": "markdown",
   "metadata": {
    "id": "G7Jelgsiay2N"
   },
   "source": [
    "### Evaluation"
   ]
  },
  {
   "cell_type": "code",
   "execution_count": null,
   "metadata": {
    "id": "ZWOmL0E0F7cM"
   },
   "outputs": [],
   "source": [
    "from sklearn.metrics import *\n",
    "def evaluate_model(\n",
    "    body_part='XR_ELBOW',\n",
    "    model=None\n",
    "):\n",
    "  test_datagen = ImageDataGenerator(\n",
    "      rescale=1./255,\n",
    "      rotation_range=30,\n",
    "      horizontal_flip=True,)\n",
    "\n",
    "  test_generator=test_datagen.flow_from_dataframe(\n",
    "      dataframe=test_data[test_data.Body_Part==body_part],\n",
    "      directory=None,\n",
    "      x_col=\"Img_Path\",\n",
    "      y_col=\"Label\",\n",
    "      weight_col=None,\n",
    "      target_size=(224, 224),\n",
    "      color_mode=\"rgb\",\n",
    "      classes=None,\n",
    "      class_mode=\"categorical\",\n",
    "      batch_size=128,\n",
    "      shuffle=False,\n",
    "      seed=1,\n",
    "      save_to_dir=None,\n",
    "      save_prefix=\"\",\n",
    "      save_format=\"png\",\n",
    "      interpolation=\"nearest\",\n",
    "      validate_filenames=False\n",
    "  )\n",
    "\n",
    "  tta_steps = 10\n",
    "  predictions = []\n",
    "\n",
    "  for i in tqdm(range(tta_steps)):\n",
    "      preds = model.predict(test_generator,verbose=1)\n",
    "      predictions.append(preds)\n",
    "\n",
    "\n",
    "  preds = np.mean(predictions, axis=0)\n",
    "\n",
    "  voting_df=pd.DataFrame(data=np.c_[test_data[test_data.Body_Part==body_part]['Patient/Study'].values,preds],\n",
    "                       columns=['Patient/Study','Class 0 prob','Class 1 prob'])\n",
    "\n",
    "  voting_df[['Class 0 prob', 'Class 1 prob']] = voting_df[['Class 0 prob', 'Class 1 prob']].apply(pd.to_numeric)\n",
    "  voting_df=voting_df.groupby('Patient/Study').mean().reset_index()\n",
    "  voting_df['Class_prediction']=np.argmax(voting_df.iloc[:,1:3].values,axis=1)\n",
    "  voting_df=voting_df.merge(test_labels[test_labels.Body_Part==body_part],how='inner',on='Patient/Study')\n",
    "  voting_df=voting_df.drop(columns=['Img_Path'])\n",
    "  voting_df['Label'] = voting_df['Label'].apply(pd.to_numeric)\n",
    "  kappa_score=cohen_kappa_score(voting_df.Class_prediction,voting_df.Label)\n",
    "  f1=f1_score(voting_df.Class_prediction,voting_df.Label)\n",
    "  return [kappa_score,f1,voting_df]"
   ]
  },
  {
   "cell_type": "markdown",
   "metadata": {
    "id": "_HB2f9KOEKSj"
   },
   "source": [
    "## Body Parts"
   ]
  },
  {
   "cell_type": "code",
   "execution_count": null,
   "metadata": {
    "id": "HqCzwFaUEEu_"
   },
   "outputs": [],
   "source": [
    "path_to_saved_models='/content/drive/My Drive/Deep Learning/vgg_models/'\n",
    "path_to_saved_hist='/content/drive/My Drive/Deep Learning/vgg_hist/'"
   ]
  },
  {
   "cell_type": "code",
   "execution_count": null,
   "metadata": {
    "id": "55sIFppXEPov"
   },
   "outputs": [],
   "source": [
    "store_results={}"
   ]
  },
  {
   "cell_type": "markdown",
   "metadata": {
    "id": "izAduer5ExqF"
   },
   "source": [
    "### Elbow"
   ]
  },
  {
   "cell_type": "markdown",
   "metadata": {
    "id": "D7-wLPhza_rR"
   },
   "source": [
    "#### Train the model"
   ]
  },
  {
   "cell_type": "code",
   "execution_count": null,
   "metadata": {
    "colab": {
     "base_uri": "https://localhost:8080/",
     "height": 1000
    },
    "executionInfo": {
     "elapsed": 1296773,
     "status": "ok",
     "timestamp": 1687419537659,
     "user": {
      "displayName": "Σπύρος Μαστροδημήτρης",
      "userId": "05822789757280910665"
     },
     "user_tz": -180
    },
    "id": "4PQ1Ee9bEvit",
    "outputId": "7707504e-d840-489e-f493-8ef304904492"
   },
   "outputs": [
    {
     "name": "stdout",
     "output_type": "stream",
     "text": [
      "Found 3909 non-validated image filenames belonging to 2 classes.\n",
      "Found 1022 non-validated image filenames belonging to 2 classes.\n",
      "Downloading data from https://storage.googleapis.com/tensorflow/keras-applications/vgg19/vgg19_weights_tf_dim_ordering_tf_kernels_notop.h5\n",
      "80134624/80134624 [==============================] - 3s 0us/step\n",
      "Epoch 1/10\n",
      "122/122 [==============================] - 83s 570ms/step - loss: 0.6909 - accuracy: 0.5760 - f1: 0.5761 - val_loss: 0.6547 - val_accuracy: 0.6542 - val_f1: 0.6542\n",
      "Epoch 2/10\n",
      "122/122 [==============================] - 68s 559ms/step - loss: 0.6662 - accuracy: 0.6069 - f1: 0.6082 - val_loss: 0.6535 - val_accuracy: 0.6280 - val_f1: 0.6280\n",
      "Epoch 3/10\n",
      "122/122 [==============================] - 75s 612ms/step - loss: 0.6538 - accuracy: 0.6252 - f1: 0.6264 - val_loss: 0.6145 - val_accuracy: 0.6865 - val_f1: 0.6865\n",
      "Epoch 4/10\n",
      "122/122 [==============================] - 67s 549ms/step - loss: 0.6550 - accuracy: 0.6229 - f1: 0.6214 - val_loss: 0.6174 - val_accuracy: 0.6744 - val_f1: 0.6744\n",
      "Epoch 5/10\n",
      "122/122 [==============================] - 71s 584ms/step - loss: 0.6325 - accuracy: 0.6456 - f1: 0.6453 - val_loss: 0.6112 - val_accuracy: 0.6804 - val_f1: 0.6804\n",
      "Epoch 6/10\n",
      "122/122 [==============================] - 73s 598ms/step - loss: 0.6397 - accuracy: 0.6397 - f1: 0.6394 - val_loss: 0.6136 - val_accuracy: 0.6855 - val_f1: 0.6855\n",
      "Epoch 7/10\n",
      "122/122 [==============================] - ETA: 0s - loss: 0.6300 - accuracy: 0.6482 - f1: 0.6492Restoring model weights from the end of the best epoch: 2.\n",
      "122/122 [==============================] - 72s 594ms/step - loss: 0.6300 - accuracy: 0.6482 - f1: 0.6492 - val_loss: 0.6045 - val_accuracy: 0.6905 - val_f1: 0.6905\n",
      "Epoch 7: early stopping\n",
      "Finished training upper layers.\n",
      "------------------\n",
      "Model: \"model\"\n",
      "_________________________________________________________________\n",
      " Layer (type)                Output Shape              Param #   \n",
      "=================================================================\n",
      " input_1 (InputLayer)        [(None, 224, 224, 3)]     0         \n",
      "                                                                 \n",
      " block1_conv1 (Conv2D)       (None, 224, 224, 64)      1792      \n",
      "                                                                 \n",
      " block1_conv2 (Conv2D)       (None, 224, 224, 64)      36928     \n",
      "                                                                 \n",
      " block1_pool (MaxPooling2D)  (None, 112, 112, 64)      0         \n",
      "                                                                 \n",
      " block2_conv1 (Conv2D)       (None, 112, 112, 128)     73856     \n",
      "                                                                 \n",
      " block2_conv2 (Conv2D)       (None, 112, 112, 128)     147584    \n",
      "                                                                 \n",
      " block2_pool (MaxPooling2D)  (None, 56, 56, 128)       0         \n",
      "                                                                 \n",
      " block3_conv1 (Conv2D)       (None, 56, 56, 256)       295168    \n",
      "                                                                 \n",
      " block3_conv2 (Conv2D)       (None, 56, 56, 256)       590080    \n",
      "                                                                 \n",
      " block3_conv3 (Conv2D)       (None, 56, 56, 256)       590080    \n",
      "                                                                 \n",
      " block3_conv4 (Conv2D)       (None, 56, 56, 256)       590080    \n",
      "                                                                 \n",
      " block3_pool (MaxPooling2D)  (None, 28, 28, 256)       0         \n",
      "                                                                 \n",
      " block4_conv1 (Conv2D)       (None, 28, 28, 512)       1180160   \n",
      "                                                                 \n",
      " block4_conv2 (Conv2D)       (None, 28, 28, 512)       2359808   \n",
      "                                                                 \n",
      " block4_conv3 (Conv2D)       (None, 28, 28, 512)       2359808   \n",
      "                                                                 \n",
      " block4_conv4 (Conv2D)       (None, 28, 28, 512)       2359808   \n",
      "                                                                 \n",
      " block4_pool (MaxPooling2D)  (None, 14, 14, 512)       0         \n",
      "                                                                 \n",
      " block5_conv1 (Conv2D)       (None, 14, 14, 512)       2359808   \n",
      "                                                                 \n",
      " block5_conv2 (Conv2D)       (None, 14, 14, 512)       2359808   \n",
      "                                                                 \n",
      " block5_conv3 (Conv2D)       (None, 14, 14, 512)       2359808   \n",
      "                                                                 \n",
      " block5_conv4 (Conv2D)       (None, 14, 14, 512)       2359808   \n",
      "                                                                 \n",
      " block5_pool (MaxPooling2D)  (None, 7, 7, 512)         0         \n",
      "                                                                 \n",
      " global_average_pooling2d (G  (None, 512)              0         \n",
      " lobalAveragePooling2D)                                          \n",
      "                                                                 \n",
      " Hidden-1 (Dense)            (None, 512)               262656    \n",
      "                                                                 \n",
      " dropout (Dropout)           (None, 512)               0         \n",
      "                                                                 \n",
      " Output (Dense)              (None, 2)                 1026      \n",
      "                                                                 \n",
      "=================================================================\n",
      "Total params: 20,288,066\n",
      "Trainable params: 20,288,066\n",
      "Non-trainable params: 0\n",
      "_________________________________________________________________\n",
      "Epoch 1/15\n",
      "122/122 [==============================] - 113s 845ms/step - loss: 0.6155 - accuracy: 0.6711 - f1: 0.6720 - val_loss: 0.5443 - val_accuracy: 0.7409 - val_f1: 0.7409 - lr: 1.0000e-05\n",
      "Epoch 2/15\n",
      "122/122 [==============================] - 92s 750ms/step - loss: 0.5106 - accuracy: 0.7617 - f1: 0.7619 - val_loss: 0.4886 - val_accuracy: 0.7863 - val_f1: 0.7863 - lr: 1.0000e-05\n",
      "Epoch 3/15\n",
      "122/122 [==============================] - ETA: 0s - loss: 0.4755 - accuracy: 0.7859 - f1: 0.7860\n",
      "Epoch 3: ReduceLROnPlateau reducing learning rate to 9.999999747378752e-07.\n",
      "122/122 [==============================] - 86s 700ms/step - loss: 0.4755 - accuracy: 0.7859 - f1: 0.7860 - val_loss: 0.4601 - val_accuracy: 0.8075 - val_f1: 0.8075 - lr: 1.0000e-05\n",
      "Epoch 4/15\n",
      "122/122 [==============================] - 91s 742ms/step - loss: 0.4370 - accuracy: 0.8071 - f1: 0.8070 - val_loss: 0.4518 - val_accuracy: 0.8115 - val_f1: 0.8115 - lr: 1.0000e-06\n",
      "Epoch 5/15\n",
      "122/122 [==============================] - 91s 745ms/step - loss: 0.4354 - accuracy: 0.8086 - f1: 0.8086 - val_loss: 0.4607 - val_accuracy: 0.8044 - val_f1: 0.8044 - lr: 1.0000e-06\n",
      "Epoch 6/15\n",
      "122/122 [==============================] - ETA: 0s - loss: 0.4249 - accuracy: 0.8122 - f1: 0.8121Restoring model weights from the end of the best epoch: 1.\n",
      "\n",
      "Epoch 6: ReduceLROnPlateau reducing learning rate to 9.999999974752428e-08.\n",
      "122/122 [==============================] - 92s 752ms/step - loss: 0.4249 - accuracy: 0.8122 - f1: 0.8121 - val_loss: 0.4614 - val_accuracy: 0.8034 - val_f1: 0.8034 - lr: 1.0000e-06\n",
      "Epoch 6: early stopping\n",
      "Finished training full network.\n",
      "------------------\n"
     ]
    },
    {
     "data": {
      "image/png": "[encoded data removed]",
      "text/plain": [
       "<Figure size 1500x800 with 1 Axes>"
      ]
     },
     "metadata": {},
     "output_type": "display_data"
    },
    {
     "data": {
      "image/png": "[encoded data removed]",
      "text/plain": [
       "<Figure size 1500x800 with 1 Axes>"
      ]
     },
     "metadata": {},
     "output_type": "display_data"
    }
   ],
   "source": [
    "callbacks_upper= [EarlyStopping(monitor='val_f1', patience=5, verbose=1,restore_best_weights=True)]\n",
    "callbacks_full = [EarlyStopping(monitor='val_f1', patience=5, verbose=1,restore_best_weights=True),\n",
    "                ReduceLROnPlateau(monitor='val_f1', factor=0.1, patience=2,cooldown=2, verbose=1, mode='auto'),\n",
    "            ModelCheckpoint(filepath=path_to_saved_models+'XR_ELBOW_best_model_vgg19.h5', monitor='val_f1', save_best_only=True)]\n",
    "\n",
    "upper_layers_optimizer = Adam()\n",
    "full_network_optimizer = Adam(1e-5)\n",
    "\n",
    "vgg19_model,vgg19_hs = configurable_train_model(batch_size=32,\n",
    "                                                mlp_hidden_layers=[512],\n",
    "                                                full_network_epochs=15,\n",
    "                                                upper_layers_epochs=10,\n",
    "                                                upper_layers_optimizer=upper_layers_optimizer,\n",
    "                                                full_network_optimizer=full_network_optimizer,\n",
    "                                                body_type='XR_ELBOW',\n",
    "                                                output_activation='softmax',\n",
    "                                                class_weights=None,\n",
    "                                                callbacks_upper=callbacks_upper,\n",
    "                                                callbacks_full=callbacks_full,\n",
    "                                                verbose=1)\n",
    "\n",
    "\n",
    "\n",
    "viz_history(hs_dict={'vgg19_elbow':vgg19_hs},metric='f1')\n",
    "viz_history(hs_dict={'vgg19_elbow':vgg19_hs},metric='loss')"
   ]
  },
  {
   "cell_type": "markdown",
   "metadata": {
    "id": "Yzss7zSbbGFX"
   },
   "source": [
    "#### Evaluate the results"
   ]
  },
  {
   "cell_type": "code",
   "execution_count": null,
   "metadata": {
    "colab": {
     "base_uri": "https://localhost:8080/"
    },
    "executionInfo": {
     "elapsed": 12,
     "status": "ok",
     "timestamp": 1687419537661,
     "user": {
      "displayName": "Σπύρος Μαστροδημήτρης",
      "userId": "05822789757280910665"
     },
     "user_tz": -180
    },
    "id": "bloHkeSOLJys",
    "outputId": "6bf07bcc-755a-4465-b790-c992189a8796"
   },
   "outputs": [
    {
     "name": "stdout",
     "output_type": "stream",
     "text": [
      "Found 465 non-validated image filenames belonging to 2 classes.\n"
     ]
    }
   ],
   "source": [
    "test_datagen = ImageDataGenerator(\n",
    "      rescale=1./255,\n",
    "      )\n",
    "\n",
    "test_generator=test_datagen.flow_from_dataframe(\n",
    "    dataframe=test_data[test_data.Body_Part=='XR_ELBOW'],\n",
    "    directory=None,\n",
    "    x_col=\"Img_Path\",\n",
    "    y_col=\"Label\",\n",
    "    weight_col=None,\n",
    "    target_size=(224, 224),\n",
    "    color_mode=\"rgb\",\n",
    "    classes=None,\n",
    "    class_mode=\"categorical\",\n",
    "    batch_size=128,\n",
    "    shuffle=False,\n",
    "    seed=1,\n",
    "    save_to_dir=None,\n",
    "    save_prefix=\"\",\n",
    "    save_format=\"png\",\n",
    "    interpolation=\"nearest\",\n",
    "    validate_filenames=False\n",
    ")\n"
   ]
  },
  {
   "cell_type": "code",
   "execution_count": null,
   "metadata": {
    "colab": {
     "base_uri": "https://localhost:8080/"
    },
    "executionInfo": {
     "elapsed": 31706,
     "status": "ok",
     "timestamp": 1687419569358,
     "user": {
      "displayName": "Σπύρος Μαστροδημήτρης",
      "userId": "05822789757280910665"
     },
     "user_tz": -180
    },
    "id": "yFdpRuqQLhNL",
    "outputId": "963fa484-07d1-4657-d532-f07432d9cc92"
   },
   "outputs": [
    {
     "name": "stdout",
     "output_type": "stream",
     "text": [
      "4/4 [==============================] - 31s 4s/step\n"
     ]
    }
   ],
   "source": [
    "pred_tmp=vgg19_model.predict(test_generator,verbose=1)"
   ]
  },
  {
   "cell_type": "code",
   "execution_count": null,
   "metadata": {
    "colab": {
     "base_uri": "https://localhost:8080/"
    },
    "executionInfo": {
     "elapsed": 13,
     "status": "ok",
     "timestamp": 1687419569361,
     "user": {
      "displayName": "Σπύρος Μαστροδημήτρης",
      "userId": "05822789757280910665"
     },
     "user_tz": -180
    },
    "id": "lonch4KqQHvv",
    "outputId": "afb35399-23e1-43e9-df6f-1b75adc2d660"
   },
   "outputs": [
    {
     "data": {
      "text/plain": [
       "0.5740063850460371"
      ]
     },
     "execution_count": 30,
     "metadata": {},
     "output_type": "execute_result"
    }
   ],
   "source": [
    "y_pred=np.argmax(pred_tmp,axis=1)\n",
    "true_labels=np.asarray(list(map(int, test_data[test_data.Body_Part=='XR_ELBOW'].Label.values)))\n",
    "cohen_kappa_score(true_labels,y_pred)"
   ]
  },
  {
   "cell_type": "code",
   "execution_count": null,
   "metadata": {
    "colab": {
     "base_uri": "https://localhost:8080/"
    },
    "executionInfo": {
     "elapsed": 101078,
     "status": "ok",
     "timestamp": 1687419670429,
     "user": {
      "displayName": "Σπύρος Μαστροδημήτρης",
      "userId": "05822789757280910665"
     },
     "user_tz": -180
    },
    "id": "oXKUFBnRQKVa",
    "outputId": "14005371-60bf-4bc1-e756-7c135603610b"
   },
   "outputs": [
    {
     "name": "stdout",
     "output_type": "stream",
     "text": [
      "Found 465 non-validated image filenames belonging to 2 classes.\n"
     ]
    },
    {
     "name": "stderr",
     "output_type": "stream",
     "text": [
      "\r",
      "  0%|          | 0/10 [00:00<?, ?it/s]"
     ]
    },
    {
     "name": "stdout",
     "output_type": "stream",
     "text": [
      "4/4 [==============================] - 9s 2s/step\n"
     ]
    },
    {
     "name": "stderr",
     "output_type": "stream",
     "text": [
      "\r",
      " 10%|█         | 1/10 [00:10<01:37, 10.78s/it]"
     ]
    },
    {
     "name": "stdout",
     "output_type": "stream",
     "text": [
      "4/4 [==============================] - 7s 2s/step\n"
     ]
    },
    {
     "name": "stderr",
     "output_type": "stream",
     "text": [
      "\r",
      " 20%|██        | 2/10 [00:19<01:17,  9.65s/it]"
     ]
    },
    {
     "name": "stdout",
     "output_type": "stream",
     "text": [
      "4/4 [==============================] - 7s 2s/step\n"
     ]
    },
    {
     "name": "stderr",
     "output_type": "stream",
     "text": [
      "\r",
      " 30%|███       | 3/10 [00:29<01:09,  9.95s/it]"
     ]
    },
    {
     "name": "stdout",
     "output_type": "stream",
     "text": [
      "4/4 [==============================] - 9s 2s/step\n"
     ]
    },
    {
     "name": "stderr",
     "output_type": "stream",
     "text": [
      "\r",
      " 40%|████      | 4/10 [00:40<01:01, 10.22s/it]"
     ]
    },
    {
     "name": "stdout",
     "output_type": "stream",
     "text": [
      "4/4 [==============================] - 7s 2s/step\n"
     ]
    },
    {
     "name": "stderr",
     "output_type": "stream",
     "text": [
      "\r",
      " 50%|█████     | 5/10 [00:49<00:48,  9.76s/it]"
     ]
    },
    {
     "name": "stdout",
     "output_type": "stream",
     "text": [
      "4/4 [==============================] - 7s 2s/step\n"
     ]
    },
    {
     "name": "stderr",
     "output_type": "stream",
     "text": [
      "\r",
      " 60%|██████    | 6/10 [00:59<00:39, 10.00s/it]"
     ]
    },
    {
     "name": "stdout",
     "output_type": "stream",
     "text": [
      "4/4 [==============================] - 9s 2s/step\n"
     ]
    },
    {
     "name": "stderr",
     "output_type": "stream",
     "text": [
      "\r",
      " 70%|███████   | 7/10 [01:10<00:30, 10.27s/it]"
     ]
    },
    {
     "name": "stdout",
     "output_type": "stream",
     "text": [
      "4/4 [==============================] - 7s 2s/step\n"
     ]
    },
    {
     "name": "stderr",
     "output_type": "stream",
     "text": [
      "\r",
      " 80%|████████  | 8/10 [01:19<00:19,  9.87s/it]"
     ]
    },
    {
     "name": "stdout",
     "output_type": "stream",
     "text": [
      "4/4 [==============================] - 7s 2s/step\n"
     ]
    },
    {
     "name": "stderr",
     "output_type": "stream",
     "text": [
      "\r",
      " 90%|█████████ | 9/10 [01:30<00:10, 10.03s/it]"
     ]
    },
    {
     "name": "stdout",
     "output_type": "stream",
     "text": [
      "4/4 [==============================] - 9s 2s/step\n"
     ]
    },
    {
     "name": "stderr",
     "output_type": "stream",
     "text": [
      "100%|██████████| 10/10 [01:41<00:00, 10.10s/it]\n"
     ]
    }
   ],
   "source": [
    "store_results['vgg_elbow_no_class_weights']=evaluate_model(body_part='XR_ELBOW',model=vgg19_model)"
   ]
  },
  {
   "cell_type": "code",
   "execution_count": null,
   "metadata": {
    "colab": {
     "base_uri": "https://localhost:8080/"
    },
    "executionInfo": {
     "elapsed": 13,
     "status": "ok",
     "timestamp": 1687419670430,
     "user": {
      "displayName": "Σπύρος Μαστροδημήτρης",
      "userId": "05822789757280910665"
     },
     "user_tz": -180
    },
    "id": "mEVWe-HIQbX-",
    "outputId": "04cf15c2-1a17-470f-aa78-e9a60c493805"
   },
   "outputs": [
    {
     "data": {
      "text/plain": [
       "0.597623089983022"
      ]
     },
     "execution_count": 32,
     "metadata": {},
     "output_type": "execute_result"
    }
   ],
   "source": [
    "store_results['vgg_elbow_no_class_weights'][0]"
   ]
  },
  {
   "cell_type": "code",
   "execution_count": null,
   "metadata": {
    "colab": {
     "base_uri": "https://localhost:8080/"
    },
    "executionInfo": {
     "elapsed": 9,
     "status": "ok",
     "timestamp": 1687419670431,
     "user": {
      "displayName": "Σπύρος Μαστροδημήτρης",
      "userId": "05822789757280910665"
     },
     "user_tz": -180
    },
    "id": "sLmB_gdrQ3wt",
    "outputId": "b83a426e-39b7-45dc-e8e6-9b03a76d270d"
   },
   "outputs": [
    {
     "name": "stdout",
     "output_type": "stream",
     "text": [
      "vgg_elbow_no_class_weights: Kappa Score 0.598 f1 0.746\n"
     ]
    }
   ],
   "source": [
    "for k,v in store_results.items():\n",
    "  print('{}: Kappa Score {:.3f} f1 {:.3f}'.format(k,v[0],v[1]))"
   ]
  },
  {
   "cell_type": "markdown",
   "metadata": {
    "id": "2AaT2eRBeNEr"
   },
   "source": [
    "### Finger"
   ]
  },
  {
   "cell_type": "markdown",
   "metadata": {
    "id": "iXiJpOOgbXky"
   },
   "source": [
    "#### Train the model"
   ]
  },
  {
   "cell_type": "code",
   "execution_count": null,
   "metadata": {
    "colab": {
     "base_uri": "https://localhost:8080/",
     "height": 1000
    },
    "executionInfo": {
     "elapsed": 1407482,
     "status": "ok",
     "timestamp": 1687424285892,
     "user": {
      "displayName": "Σπύρος Μαστροδημήτρης",
      "userId": "05822789757280910665"
     },
     "user_tz": -180
    },
    "id": "VbgXlaQ7ePrh",
    "outputId": "fbfc8e9e-5715-44ed-e052-e5e102babbd3",
    "scrolled": false
   },
   "outputs": [
    {
     "name": "stdout",
     "output_type": "stream",
     "text": [
      "Found 4099 non-validated image filenames belonging to 2 classes.\n",
      "Found 1007 non-validated image filenames belonging to 2 classes.\n",
      "Epoch 1/10\n",
      "128/128 [==============================] - 76s 589ms/step - loss: 0.6318 - accuracy: 0.6263 - f1: 0.6289 - val_loss: 0.5616 - val_accuracy: 0.6946 - val_f1: 0.6946\n",
      "Epoch 2/10\n",
      "128/128 [==============================] - 68s 530ms/step - loss: 0.5990 - accuracy: 0.6504 - f1: 0.6528 - val_loss: 0.5592 - val_accuracy: 0.6986 - val_f1: 0.6986\n",
      "Epoch 3/10\n",
      "128/128 [==============================] - 72s 557ms/step - loss: 0.5841 - accuracy: 0.6666 - f1: 0.6689 - val_loss: 0.5380 - val_accuracy: 0.7188 - val_f1: 0.7188\n",
      "Epoch 4/10\n",
      "128/128 [==============================] - 69s 541ms/step - loss: 0.5745 - accuracy: 0.6759 - f1: 0.6782 - val_loss: 0.5443 - val_accuracy: 0.6986 - val_f1: 0.6986\n",
      "Epoch 5/10\n",
      "128/128 [==============================] - 68s 531ms/step - loss: 0.5775 - accuracy: 0.6737 - f1: 0.6760 - val_loss: 0.5594 - val_accuracy: 0.6734 - val_f1: 0.6734\n",
      "Epoch 6/10\n",
      "128/128 [==============================] - 70s 549ms/step - loss: 0.5784 - accuracy: 0.6646 - f1: 0.6646 - val_loss: 0.5304 - val_accuracy: 0.7409 - val_f1: 0.7409\n",
      "Epoch 7/10\n",
      "128/128 [==============================] - 71s 551ms/step - loss: 0.5631 - accuracy: 0.6865 - f1: 0.6887 - val_loss: 0.5407 - val_accuracy: 0.7056 - val_f1: 0.7056\n",
      "Epoch 8/10\n",
      "128/128 [==============================] - 74s 578ms/step - loss: 0.5660 - accuracy: 0.6892 - f1: 0.6914 - val_loss: 0.5338 - val_accuracy: 0.7147 - val_f1: 0.7147\n",
      "Epoch 9/10\n",
      "128/128 [==============================] - 68s 533ms/step - loss: 0.5613 - accuracy: 0.6887 - f1: 0.6909 - val_loss: 0.5408 - val_accuracy: 0.7026 - val_f1: 0.7026\n",
      "Epoch 10/10\n",
      "128/128 [==============================] - ETA: 0s - loss: 0.5653 - accuracy: 0.6865 - f1: 0.6887Restoring model weights from the end of the best epoch: 5.\n",
      "128/128 [==============================] - 75s 585ms/step - loss: 0.5653 - accuracy: 0.6865 - f1: 0.6887 - val_loss: 0.5354 - val_accuracy: 0.7036 - val_f1: 0.7036\n",
      "Epoch 10: early stopping\n",
      "Finished training upper layers.\n",
      "------------------\n",
      "Model: \"model_2\"\n",
      "_________________________________________________________________\n",
      " Layer (type)                Output Shape              Param #   \n",
      "=================================================================\n",
      " input_3 (InputLayer)        [(None, 224, 224, 3)]     0         \n",
      "                                                                 \n",
      " block1_conv1 (Conv2D)       (None, 224, 224, 64)      1792      \n",
      "                                                                 \n",
      " block1_conv2 (Conv2D)       (None, 224, 224, 64)      36928     \n",
      "                                                                 \n",
      " block1_pool (MaxPooling2D)  (None, 112, 112, 64)      0         \n",
      "                                                                 \n",
      " block2_conv1 (Conv2D)       (None, 112, 112, 128)     73856     \n",
      "                                                                 \n",
      " block2_conv2 (Conv2D)       (None, 112, 112, 128)     147584    \n",
      "                                                                 \n",
      " block2_pool (MaxPooling2D)  (None, 56, 56, 128)       0         \n",
      "                                                                 \n",
      " block3_conv1 (Conv2D)       (None, 56, 56, 256)       295168    \n",
      "                                                                 \n",
      " block3_conv2 (Conv2D)       (None, 56, 56, 256)       590080    \n",
      "                                                                 \n",
      " block3_conv3 (Conv2D)       (None, 56, 56, 256)       590080    \n",
      "                                                                 \n",
      " block3_conv4 (Conv2D)       (None, 56, 56, 256)       590080    \n",
      "                                                                 \n",
      " block3_pool (MaxPooling2D)  (None, 28, 28, 256)       0         \n",
      "                                                                 \n",
      " block4_conv1 (Conv2D)       (None, 28, 28, 512)       1180160   \n",
      "                                                                 \n",
      " block4_conv2 (Conv2D)       (None, 28, 28, 512)       2359808   \n",
      "                                                                 \n",
      " block4_conv3 (Conv2D)       (None, 28, 28, 512)       2359808   \n",
      "                                                                 \n",
      " block4_conv4 (Conv2D)       (None, 28, 28, 512)       2359808   \n",
      "                                                                 \n",
      " block4_pool (MaxPooling2D)  (None, 14, 14, 512)       0         \n",
      "                                                                 \n",
      " block5_conv1 (Conv2D)       (None, 14, 14, 512)       2359808   \n",
      "                                                                 \n",
      " block5_conv2 (Conv2D)       (None, 14, 14, 512)       2359808   \n",
      "                                                                 \n",
      " block5_conv3 (Conv2D)       (None, 14, 14, 512)       2359808   \n",
      "                                                                 \n",
      " block5_conv4 (Conv2D)       (None, 14, 14, 512)       2359808   \n",
      "                                                                 \n",
      " block5_pool (MaxPooling2D)  (None, 7, 7, 512)         0         \n",
      "                                                                 \n",
      " global_average_pooling2d_2   (None, 512)              0         \n",
      " (GlobalAveragePooling2D)                                        \n",
      "                                                                 \n",
      " Hidden-1 (Dense)            (None, 512)               262656    \n",
      "                                                                 \n",
      " dropout_2 (Dropout)         (None, 512)               0         \n",
      "                                                                 \n",
      " Output (Dense)              (None, 2)                 1026      \n",
      "                                                                 \n",
      "=================================================================\n",
      "Total params: 20,288,066\n",
      "Trainable params: 20,288,066\n",
      "Non-trainable params: 0\n",
      "_________________________________________________________________\n",
      "Epoch 1/15\n",
      "128/128 [==============================] - 97s 747ms/step - loss: 0.5586 - accuracy: 0.6867 - f1: 0.6866 - val_loss: 0.5263 - val_accuracy: 0.7198 - val_f1: 0.7198 - lr: 1.0000e-05\n",
      "Epoch 2/15\n",
      "128/128 [==============================] - 88s 685ms/step - loss: 0.5278 - accuracy: 0.7202 - f1: 0.7222 - val_loss: 0.5269 - val_accuracy: 0.7278 - val_f1: 0.7278 - lr: 1.0000e-05\n",
      "Epoch 3/15\n",
      "128/128 [==============================] - ETA: 0s - loss: 0.4948 - accuracy: 0.7460 - f1: 0.7478\n",
      "Epoch 3: ReduceLROnPlateau reducing learning rate to 9.999999747378752e-07.\n",
      "128/128 [==============================] - 87s 677ms/step - loss: 0.4948 - accuracy: 0.7460 - f1: 0.7478 - val_loss: 0.4960 - val_accuracy: 0.7379 - val_f1: 0.7379 - lr: 1.0000e-05\n",
      "Epoch 4/15\n",
      "128/128 [==============================] - 88s 689ms/step - loss: 0.4643 - accuracy: 0.7640 - f1: 0.7656 - val_loss: 0.4662 - val_accuracy: 0.7681 - val_f1: 0.7681 - lr: 1.0000e-06\n",
      "Epoch 5/15\n",
      "128/128 [==============================] - 85s 661ms/step - loss: 0.4532 - accuracy: 0.7738 - f1: 0.7754 - val_loss: 0.4603 - val_accuracy: 0.7702 - val_f1: 0.7702 - lr: 1.0000e-06\n",
      "Epoch 6/15\n",
      "128/128 [==============================] - ETA: 0s - loss: 0.4467 - accuracy: 0.7777 - f1: 0.7793Restoring model weights from the end of the best epoch: 1.\n",
      "\n",
      "Epoch 6: ReduceLROnPlateau reducing learning rate to 9.999999974752428e-08.\n",
      "128/128 [==============================] - 92s 719ms/step - loss: 0.4467 - accuracy: 0.7777 - f1: 0.7793 - val_loss: 0.4665 - val_accuracy: 0.7671 - val_f1: 0.7671 - lr: 1.0000e-06\n",
      "Epoch 6: early stopping\n",
      "Finished training full network.\n",
      "------------------\n"
     ]
    },
    {
     "data": {
      "image/png": "[encoded data removed]",
      "text/plain": [
       "<Figure size 1500x800 with 1 Axes>"
      ]
     },
     "metadata": {},
     "output_type": "display_data"
    },
    {
     "data": {
      "image/png": "[encoded data removed]",
      "text/plain": [
       "<Figure size 1500x800 with 1 Axes>"
      ]
     },
     "metadata": {},
     "output_type": "display_data"
    }
   ],
   "source": [
    "callbacks_upper= [EarlyStopping(monitor='val_f1', patience=5, verbose=1,restore_best_weights=True)]\n",
    "callbacks_full = [EarlyStopping(monitor='val_f1', patience=5, verbose=1,restore_best_weights=True),\n",
    "                ReduceLROnPlateau(monitor='val_f1', factor=0.1, patience=2,cooldown=2, verbose=1, mode='auto'),\n",
    "            ModelCheckpoint(filepath=path_to_saved_models+'XR_FINGER_best_model_vgg19.h5', monitor='val_f1', save_best_only=True)]\n",
    "\n",
    "upper_layers_optimizer = Adam()\n",
    "full_network_optimizer = Adam(1e-5)\n",
    "\n",
    "\n",
    "vgg19_model,vgg19_hs = configurable_train_model(batch_size=32,\n",
    "                                                mlp_hidden_layers=[512],\n",
    "                                                full_network_epochs=15,\n",
    "                                                upper_layers_epochs=10,\n",
    "                                                upper_layers_optimizer=upper_layers_optimizer,\n",
    "                                                full_network_optimizer=full_network_optimizer,\n",
    "                                                body_type='XR_FINGER',\n",
    "                                                output_activation='softmax',\n",
    "                                                class_weights=None,\n",
    "                                                callbacks_upper=callbacks_upper,\n",
    "                                                callbacks_full=callbacks_full,\n",
    "                                                verbose=1)\n",
    "\n",
    "\n",
    "\n",
    "viz_history(hs_dict={'vgg19_finger':vgg19_hs},metric='f1')\n",
    "viz_history(hs_dict={'vgg19_finger':vgg19_hs},metric='loss')"
   ]
  },
  {
   "cell_type": "markdown",
   "metadata": {
    "id": "i9OaaLJGba23"
   },
   "source": [
    "#### Evaluate the Results"
   ]
  },
  {
   "cell_type": "code",
   "execution_count": null,
   "metadata": {
    "colab": {
     "base_uri": "https://localhost:8080/"
    },
    "executionInfo": {
     "elapsed": 7,
     "status": "ok",
     "timestamp": 1687424285894,
     "user": {
      "displayName": "Σπύρος Μαστροδημήτρης",
      "userId": "05822789757280910665"
     },
     "user_tz": -180
    },
    "id": "jOcwOvxfqVqv",
    "outputId": "bf1c2d02-4fe5-4054-87cb-75dae40d2be0"
   },
   "outputs": [
    {
     "name": "stdout",
     "output_type": "stream",
     "text": [
      "Found 461 non-validated image filenames belonging to 2 classes.\n"
     ]
    }
   ],
   "source": [
    "test_datagen = ImageDataGenerator(\n",
    "      rescale=1./255,\n",
    "      )\n",
    "\n",
    "test_generator=test_datagen.flow_from_dataframe(\n",
    "    dataframe=test_data[test_data.Body_Part=='XR_FINGER'],\n",
    "    directory=None,\n",
    "    x_col=\"Img_Path\",\n",
    "    y_col=\"Label\",\n",
    "    weight_col=None,\n",
    "    target_size=(224, 224),\n",
    "    color_mode=\"rgb\",\n",
    "    classes=None,\n",
    "    class_mode=\"categorical\",\n",
    "    batch_size=128,\n",
    "    shuffle=False,\n",
    "    seed=1,\n",
    "    save_to_dir=None,\n",
    "    save_prefix=\"\",\n",
    "    save_format=\"png\",\n",
    "    interpolation=\"nearest\",\n",
    "    validate_filenames=False\n",
    ")"
   ]
  },
  {
   "cell_type": "code",
   "execution_count": null,
   "metadata": {
    "colab": {
     "base_uri": "https://localhost:8080/"
    },
    "executionInfo": {
     "elapsed": 21109,
     "status": "ok",
     "timestamp": 1687424306998,
     "user": {
      "displayName": "Σπύρος Μαστροδημήτρης",
      "userId": "05822789757280910665"
     },
     "user_tz": -180
    },
    "id": "8EEAU730pN9s",
    "outputId": "ebf44bed-096a-4e39-ff2d-1f446bb1e857"
   },
   "outputs": [
    {
     "name": "stdout",
     "output_type": "stream",
     "text": [
      "4/4 [==============================] - 13s 4s/step\n"
     ]
    }
   ],
   "source": [
    "pred_tmp=vgg19_model.predict(test_generator,verbose=1)"
   ]
  },
  {
   "cell_type": "code",
   "execution_count": null,
   "metadata": {
    "colab": {
     "base_uri": "https://localhost:8080/"
    },
    "executionInfo": {
     "elapsed": 14,
     "status": "ok",
     "timestamp": 1687424307001,
     "user": {
      "displayName": "Σπύρος Μαστροδημήτρης",
      "userId": "05822789757280910665"
     },
     "user_tz": -180
    },
    "id": "_xUdQip8qARz",
    "outputId": "7be96a38-5299-4477-fc8c-7bd79c17707b"
   },
   "outputs": [
    {
     "data": {
      "text/plain": [
       "0.34541060530547374"
      ]
     },
     "execution_count": 50,
     "metadata": {},
     "output_type": "execute_result"
    }
   ],
   "source": [
    "y_pred=np.argmax(pred_tmp,axis=1)\n",
    "true_labels=np.asarray(list(map(int, test_data[test_data.Body_Part=='XR_FINGER'].Label.values)))\n",
    "cohen_kappa_score(true_labels,y_pred)"
   ]
  },
  {
   "cell_type": "code",
   "execution_count": null,
   "metadata": {
    "colab": {
     "base_uri": "https://localhost:8080/"
    },
    "executionInfo": {
     "elapsed": 13,
     "status": "ok",
     "timestamp": 1687424307002,
     "user": {
      "displayName": "Σπύρος Μαστροδημήτρης",
      "userId": "05822789757280910665"
     },
     "user_tz": -180
    },
    "id": "w5iA4DZNqCsT",
    "outputId": "a25373f5-895d-4689-a4da-c53ccca7af39"
   },
   "outputs": [
    {
     "data": {
      "text/plain": [
       "0.5336805555555556"
      ]
     },
     "execution_count": 51,
     "metadata": {},
     "output_type": "execute_result"
    }
   ],
   "source": [
    "store_results['vgg_elbow_no_class_weights'][0]"
   ]
  },
  {
   "cell_type": "code",
   "execution_count": null,
   "metadata": {
    "colab": {
     "base_uri": "https://localhost:8080/"
    },
    "executionInfo": {
     "elapsed": 96667,
     "status": "ok",
     "timestamp": 1687424403659,
     "user": {
      "displayName": "Σπύρος Μαστροδημήτρης",
      "userId": "05822789757280910665"
     },
     "user_tz": -180
    },
    "id": "8GfZbXdlqLPL",
    "outputId": "ebebd07d-0d7f-4eae-8a56-414f4176fe97"
   },
   "outputs": [
    {
     "name": "stdout",
     "output_type": "stream",
     "text": [
      "Found 461 non-validated image filenames belonging to 2 classes.\n"
     ]
    },
    {
     "name": "stderr",
     "output_type": "stream",
     "text": [
      "\r",
      "  0%|          | 0/10 [00:00<?, ?it/s]"
     ]
    },
    {
     "name": "stdout",
     "output_type": "stream",
     "text": [
      "4/4 [==============================] - 8s 2s/step\n"
     ]
    },
    {
     "name": "stderr",
     "output_type": "stream",
     "text": [
      "\r",
      " 10%|█         | 1/10 [00:10<01:31, 10.20s/it]"
     ]
    },
    {
     "name": "stdout",
     "output_type": "stream",
     "text": [
      "4/4 [==============================] - 7s 2s/step\n"
     ]
    },
    {
     "name": "stderr",
     "output_type": "stream",
     "text": [
      "\r",
      " 20%|██        | 2/10 [00:18<01:13,  9.17s/it]"
     ]
    },
    {
     "name": "stdout",
     "output_type": "stream",
     "text": [
      "4/4 [==============================] - 7s 2s/step\n"
     ]
    },
    {
     "name": "stderr",
     "output_type": "stream",
     "text": [
      "\r",
      " 30%|███       | 3/10 [00:28<01:06,  9.54s/it]"
     ]
    },
    {
     "name": "stdout",
     "output_type": "stream",
     "text": [
      "4/4 [==============================] - 8s 2s/step\n"
     ]
    },
    {
     "name": "stderr",
     "output_type": "stream",
     "text": [
      "\r",
      " 40%|████      | 4/10 [00:39<00:59,  9.87s/it]"
     ]
    },
    {
     "name": "stdout",
     "output_type": "stream",
     "text": [
      "4/4 [==============================] - 7s 2s/step\n"
     ]
    },
    {
     "name": "stderr",
     "output_type": "stream",
     "text": [
      "\r",
      " 50%|█████     | 5/10 [00:47<00:46,  9.37s/it]"
     ]
    },
    {
     "name": "stdout",
     "output_type": "stream",
     "text": [
      "4/4 [==============================] - 8s 2s/step\n"
     ]
    },
    {
     "name": "stderr",
     "output_type": "stream",
     "text": [
      "\r",
      " 60%|██████    | 6/10 [00:58<00:39,  9.77s/it]"
     ]
    },
    {
     "name": "stdout",
     "output_type": "stream",
     "text": [
      "4/4 [==============================] - 8s 2s/step\n"
     ]
    },
    {
     "name": "stderr",
     "output_type": "stream",
     "text": [
      "\r",
      " 70%|███████   | 7/10 [01:08<00:29,  9.91s/it]"
     ]
    },
    {
     "name": "stdout",
     "output_type": "stream",
     "text": [
      "4/4 [==============================] - 6s 2s/step\n"
     ]
    },
    {
     "name": "stderr",
     "output_type": "stream",
     "text": [
      "\r",
      " 80%|████████  | 8/10 [01:16<00:18,  9.43s/it]"
     ]
    },
    {
     "name": "stdout",
     "output_type": "stream",
     "text": [
      "4/4 [==============================] - 8s 2s/step\n"
     ]
    },
    {
     "name": "stderr",
     "output_type": "stream",
     "text": [
      "\r",
      " 90%|█████████ | 9/10 [01:26<00:09,  9.67s/it]"
     ]
    },
    {
     "name": "stdout",
     "output_type": "stream",
     "text": [
      "4/4 [==============================] - 8s 2s/step\n"
     ]
    },
    {
     "name": "stderr",
     "output_type": "stream",
     "text": [
      "100%|██████████| 10/10 [01:36<00:00,  9.67s/it]\n"
     ]
    }
   ],
   "source": [
    "store_results['vgg_finger_no_class_weights']=evaluate_model(body_part='XR_FINGER',model=vgg19_model)"
   ]
  },
  {
   "cell_type": "code",
   "execution_count": null,
   "metadata": {
    "colab": {
     "base_uri": "https://localhost:8080/"
    },
    "executionInfo": {
     "elapsed": 11,
     "status": "ok",
     "timestamp": 1687424403660,
     "user": {
      "displayName": "Σπύρος Μαστροδημήτρης",
      "userId": "05822789757280910665"
     },
     "user_tz": -180
    },
    "id": "nkrX9D6vq5jI",
    "outputId": "a61249af-070b-4a3c-c65b-9ff676af8692"
   },
   "outputs": [
    {
     "name": "stdout",
     "output_type": "stream",
     "text": [
      "vgg_elbow_no_class_weights: Kappa Score 0.534 f1 0.685\n",
      "vgg_finger_no_class_weights: Kappa Score 0.428 f1 0.702\n"
     ]
    }
   ],
   "source": [
    "for k,v in store_results.items():\n",
    "  print('{}: Kappa Score {:.3f} f1 {:.3f}'.format(k,v[0],v[1]))"
   ]
  },
  {
   "cell_type": "markdown",
   "metadata": {
    "id": "WAoI6UPBxzMH"
   },
   "source": [
    "### Wrist"
   ]
  },
  {
   "cell_type": "markdown",
   "metadata": {
    "id": "Fnd_fU0RbiEG"
   },
   "source": [
    "#### Train the Model"
   ]
  },
  {
   "cell_type": "code",
   "execution_count": null,
   "metadata": {
    "colab": {
     "base_uri": "https://localhost:8080/",
     "height": 1000
    },
    "executionInfo": {
     "elapsed": 2351274,
     "status": "ok",
     "timestamp": 1687426754928,
     "user": {
      "displayName": "Σπύρος Μαστροδημήτρης",
      "userId": "05822789757280910665"
     },
     "user_tz": -180
    },
    "id": "xPbRit3xx57k",
    "outputId": "1f0f6e9e-b830-46bb-e586-bf99031fbef0",
    "scrolled": false
   },
   "outputs": [
    {
     "name": "stdout",
     "output_type": "stream",
     "text": [
      "Found 7839 non-validated image filenames belonging to 2 classes.\n",
      "Found 1913 non-validated image filenames belonging to 2 classes.\n",
      "Epoch 1/10\n",
      "244/244 [==============================] - 158s 645ms/step - loss: 0.6308 - accuracy: 0.6367 - f1: 0.6367 - val_loss: 0.5858 - val_accuracy: 0.6753 - val_f1: 0.6753\n",
      "Epoch 2/10\n",
      "244/244 [==============================] - 151s 619ms/step - loss: 0.6054 - accuracy: 0.6609 - f1: 0.6609 - val_loss: 0.6180 - val_accuracy: 0.6584 - val_f1: 0.6584\n",
      "Epoch 3/10\n",
      "244/244 [==============================] - 141s 580ms/step - loss: 0.5859 - accuracy: 0.6844 - f1: 0.6844 - val_loss: 0.5762 - val_accuracy: 0.6917 - val_f1: 0.6917\n",
      "Epoch 4/10\n",
      "244/244 [==============================] - 146s 596ms/step - loss: 0.5836 - accuracy: 0.6871 - f1: 0.6871 - val_loss: 0.5960 - val_accuracy: 0.6785 - val_f1: 0.6785\n",
      "Epoch 5/10\n",
      "244/244 [==============================] - 143s 587ms/step - loss: 0.5784 - accuracy: 0.6922 - f1: 0.6922 - val_loss: 0.5591 - val_accuracy: 0.6992 - val_f1: 0.6992\n",
      "Epoch 6/10\n",
      "244/244 [==============================] - 146s 597ms/step - loss: 0.5669 - accuracy: 0.7014 - f1: 0.7014 - val_loss: 0.5598 - val_accuracy: 0.7076 - val_f1: 0.7076\n",
      "Epoch 7/10\n",
      "244/244 [==============================] - ETA: 0s - loss: 0.5676 - accuracy: 0.7008 - f1: 0.7008Restoring model weights from the end of the best epoch: 2.\n",
      "244/244 [==============================] - 138s 565ms/step - loss: 0.5676 - accuracy: 0.7008 - f1: 0.7008 - val_loss: 0.5528 - val_accuracy: 0.7092 - val_f1: 0.7092\n",
      "Epoch 7: early stopping\n",
      "Finished training upper layers.\n",
      "------------------\n",
      "Model: \"model_3\"\n",
      "_________________________________________________________________\n",
      " Layer (type)                Output Shape              Param #   \n",
      "=================================================================\n",
      " input_4 (InputLayer)        [(None, 224, 224, 3)]     0         \n",
      "                                                                 \n",
      " block1_conv1 (Conv2D)       (None, 224, 224, 64)      1792      \n",
      "                                                                 \n",
      " block1_conv2 (Conv2D)       (None, 224, 224, 64)      36928     \n",
      "                                                                 \n",
      " block1_pool (MaxPooling2D)  (None, 112, 112, 64)      0         \n",
      "                                                                 \n",
      " block2_conv1 (Conv2D)       (None, 112, 112, 128)     73856     \n",
      "                                                                 \n",
      " block2_conv2 (Conv2D)       (None, 112, 112, 128)     147584    \n",
      "                                                                 \n",
      " block2_pool (MaxPooling2D)  (None, 56, 56, 128)       0         \n",
      "                                                                 \n",
      " block3_conv1 (Conv2D)       (None, 56, 56, 256)       295168    \n",
      "                                                                 \n",
      " block3_conv2 (Conv2D)       (None, 56, 56, 256)       590080    \n",
      "                                                                 \n",
      " block3_conv3 (Conv2D)       (None, 56, 56, 256)       590080    \n",
      "                                                                 \n",
      " block3_conv4 (Conv2D)       (None, 56, 56, 256)       590080    \n",
      "                                                                 \n",
      " block3_pool (MaxPooling2D)  (None, 28, 28, 256)       0         \n",
      "                                                                 \n",
      " block4_conv1 (Conv2D)       (None, 28, 28, 512)       1180160   \n",
      "                                                                 \n",
      " block4_conv2 (Conv2D)       (None, 28, 28, 512)       2359808   \n",
      "                                                                 \n",
      " block4_conv3 (Conv2D)       (None, 28, 28, 512)       2359808   \n",
      "                                                                 \n",
      " block4_conv4 (Conv2D)       (None, 28, 28, 512)       2359808   \n",
      "                                                                 \n",
      " block4_pool (MaxPooling2D)  (None, 14, 14, 512)       0         \n",
      "                                                                 \n",
      " block5_conv1 (Conv2D)       (None, 14, 14, 512)       2359808   \n",
      "                                                                 \n",
      " block5_conv2 (Conv2D)       (None, 14, 14, 512)       2359808   \n",
      "                                                                 \n",
      " block5_conv3 (Conv2D)       (None, 14, 14, 512)       2359808   \n",
      "                                                                 \n",
      " block5_conv4 (Conv2D)       (None, 14, 14, 512)       2359808   \n",
      "                                                                 \n",
      " block5_pool (MaxPooling2D)  (None, 7, 7, 512)         0         \n",
      "                                                                 \n",
      " global_average_pooling2d_3   (None, 512)              0         \n",
      " (GlobalAveragePooling2D)                                        \n",
      "                                                                 \n",
      " Hidden-1 (Dense)            (None, 512)               262656    \n",
      "                                                                 \n",
      " dropout_3 (Dropout)         (None, 512)               0         \n",
      "                                                                 \n",
      " Output (Dense)              (None, 2)                 1026      \n",
      "                                                                 \n",
      "=================================================================\n",
      "Total params: 20,288,066\n",
      "Trainable params: 20,288,066\n",
      "Non-trainable params: 0\n",
      "_________________________________________________________________\n",
      "Epoch 1/15\n",
      "244/244 [==============================] - 185s 752ms/step - loss: 0.5307 - accuracy: 0.7328 - f1: 0.7328 - val_loss: 0.4744 - val_accuracy: 0.7754 - val_f1: 0.7754 - lr: 1.0000e-05\n",
      "Epoch 2/15\n",
      "244/244 [==============================] - 172s 704ms/step - loss: 0.4596 - accuracy: 0.7854 - f1: 0.7854 - val_loss: 0.4930 - val_accuracy: 0.7797 - val_f1: 0.7797 - lr: 1.0000e-05\n",
      "Epoch 3/15\n",
      "244/244 [==============================] - ETA: 0s - loss: 0.4275 - accuracy: 0.8054 - f1: 0.8054\n",
      "Epoch 3: ReduceLROnPlateau reducing learning rate to 9.999999747378752e-07.\n",
      "244/244 [==============================] - 187s 763ms/step - loss: 0.4275 - accuracy: 0.8054 - f1: 0.8054 - val_loss: 0.4283 - val_accuracy: 0.8083 - val_f1: 0.8083 - lr: 1.0000e-05\n",
      "Epoch 4/15\n",
      "244/244 [==============================] - 177s 724ms/step - loss: 0.3857 - accuracy: 0.8340 - f1: 0.8340 - val_loss: 0.4001 - val_accuracy: 0.8289 - val_f1: 0.8289 - lr: 1.0000e-06\n",
      "Epoch 5/15\n",
      "244/244 [==============================] - 185s 757ms/step - loss: 0.3775 - accuracy: 0.8390 - f1: 0.8390 - val_loss: 0.3986 - val_accuracy: 0.8342 - val_f1: 0.8342 - lr: 1.0000e-06\n",
      "Epoch 6/15\n",
      "244/244 [==============================] - ETA: 0s - loss: 0.3727 - accuracy: 0.8369 - f1: 0.8369Restoring model weights from the end of the best epoch: 1.\n",
      "\n",
      "Epoch 6: ReduceLROnPlateau reducing learning rate to 9.999999974752428e-08.\n",
      "244/244 [==============================] - 182s 746ms/step - loss: 0.3727 - accuracy: 0.8369 - f1: 0.8369 - val_loss: 0.3980 - val_accuracy: 0.8257 - val_f1: 0.8257 - lr: 1.0000e-06\n",
      "Epoch 6: early stopping\n",
      "Finished training full network.\n",
      "------------------\n"
     ]
    },
    {
     "data": {
      "image/png": "[encoded data removed]",
      "text/plain": [
       "<Figure size 1500x800 with 1 Axes>"
      ]
     },
     "metadata": {},
     "output_type": "display_data"
    },
    {
     "data": {
      "image/png": "[encoded data removed]",
      "text/plain": [
       "<Figure size 1500x800 with 1 Axes>"
      ]
     },
     "metadata": {},
     "output_type": "display_data"
    }
   ],
   "source": [
    "callbacks_upper= [EarlyStopping(monitor='val_f1', patience=5, verbose=1,restore_best_weights=True)]\n",
    "callbacks_full = [EarlyStopping(monitor='val_f1', patience=5, verbose=1,restore_best_weights=True),\n",
    "                ReduceLROnPlateau(monitor='val_f1', factor=0.1, patience=2,cooldown=2, verbose=1, mode='auto'),\n",
    "            ModelCheckpoint(filepath=path_to_saved_models+'XR_WRIST_best_model_vgg19.h5', monitor='val_f1', save_best_only=True)]\n",
    "\n",
    "upper_layers_optimizer = Adam()\n",
    "full_network_optimizer = Adam(1e-5)\n",
    "\n",
    "\n",
    "vgg19_model,vgg19_hs = configurable_train_model(batch_size=32,\n",
    "                                                mlp_hidden_layers=[512],\n",
    "                                                full_network_epochs=15,\n",
    "                                                upper_layers_epochs=10,\n",
    "                                                upper_layers_optimizer=upper_layers_optimizer,\n",
    "                                                full_network_optimizer=full_network_optimizer,\n",
    "                                                body_type='XR_WRIST',\n",
    "                                                output_activation='softmax',\n",
    "                                                class_weights=None,\n",
    "                                                callbacks_upper=callbacks_upper,\n",
    "                                                callbacks_full=callbacks_full,\n",
    "                                                verbose=1)\n",
    "\n",
    "\n",
    "\n",
    "viz_history(hs_dict={'vgg19_wrist':vgg19_hs},metric='f1')\n",
    "viz_history(hs_dict={'vgg19_wrist':vgg19_hs},metric='loss')"
   ]
  },
  {
   "cell_type": "markdown",
   "metadata": {
    "id": "NKFk9gFHb3YM"
   },
   "source": [
    "#### Evaluate the Results"
   ]
  },
  {
   "cell_type": "code",
   "execution_count": null,
   "metadata": {
    "colab": {
     "base_uri": "https://localhost:8080/"
    },
    "executionInfo": {
     "elapsed": 6,
     "status": "ok",
     "timestamp": 1687426754929,
     "user": {
      "displayName": "Σπύρος Μαστροδημήτρης",
      "userId": "05822789757280910665"
     },
     "user_tz": -180
    },
    "id": "tObs7qEWx57k",
    "outputId": "e65d50c5-6659-476e-e5b4-b77e7862c586"
   },
   "outputs": [
    {
     "name": "stdout",
     "output_type": "stream",
     "text": [
      "Found 659 non-validated image filenames belonging to 2 classes.\n"
     ]
    }
   ],
   "source": [
    "test_datagen = ImageDataGenerator(\n",
    "      rescale=1./255,\n",
    "      )\n",
    "\n",
    "test_generator=test_datagen.flow_from_dataframe(\n",
    "    dataframe=test_data[test_data.Body_Part=='XR_WRIST'],\n",
    "    directory=None,\n",
    "    x_col=\"Img_Path\",\n",
    "    y_col=\"Label\",\n",
    "    weight_col=None,\n",
    "    target_size=(224, 224),\n",
    "    color_mode=\"rgb\",\n",
    "    classes=None,\n",
    "    class_mode=\"categorical\",\n",
    "    batch_size=128,\n",
    "    shuffle=False,\n",
    "    seed=1,\n",
    "    save_to_dir=None,\n",
    "    save_prefix=\"\",\n",
    "    save_format=\"png\",\n",
    "    interpolation=\"nearest\",\n",
    "    validate_filenames=False\n",
    ")"
   ]
  },
  {
   "cell_type": "code",
   "execution_count": null,
   "metadata": {
    "colab": {
     "base_uri": "https://localhost:8080/"
    },
    "executionInfo": {
     "elapsed": 9221,
     "status": "ok",
     "timestamp": 1687426764147,
     "user": {
      "displayName": "Σπύρος Μαστροδημήτρης",
      "userId": "05822789757280910665"
     },
     "user_tz": -180
    },
    "id": "LVyBMeAQx57k",
    "outputId": "e245f830-2af9-47ce-e4b3-7d38c559232d"
   },
   "outputs": [
    {
     "name": "stdout",
     "output_type": "stream",
     "text": [
      "6/6 [==============================] - 8s 1s/step\n"
     ]
    }
   ],
   "source": [
    "pred_tmp=vgg19_model.predict(test_generator,verbose=1)"
   ]
  },
  {
   "cell_type": "code",
   "execution_count": null,
   "metadata": {
    "id": "65yhBBb6x57l"
   },
   "outputs": [],
   "source": [
    "y_pred=np.argmax(pred_tmp,axis=1)\n",
    "true_labels=np.asarray(list(map(int, test_data[test_data.Body_Part=='XR_WRIST'].Label.values)))"
   ]
  },
  {
   "cell_type": "code",
   "execution_count": null,
   "metadata": {
    "colab": {
     "base_uri": "https://localhost:8080/"
    },
    "executionInfo": {
     "elapsed": 133689,
     "status": "ok",
     "timestamp": 1687426897831,
     "user": {
      "displayName": "Σπύρος Μαστροδημήτρης",
      "userId": "05822789757280910665"
     },
     "user_tz": -180
    },
    "id": "M55fupXwx57l",
    "outputId": "c2889a9a-e084-4807-f24b-40afb358f74e"
   },
   "outputs": [
    {
     "name": "stdout",
     "output_type": "stream",
     "text": [
      "Found 659 non-validated image filenames belonging to 2 classes.\n"
     ]
    },
    {
     "name": "stderr",
     "output_type": "stream",
     "text": [
      "\r",
      "  0%|          | 0/10 [00:00<?, ?it/s]"
     ]
    },
    {
     "name": "stdout",
     "output_type": "stream",
     "text": [
      "6/6 [==============================] - 12s 2s/step\n"
     ]
    },
    {
     "name": "stderr",
     "output_type": "stream",
     "text": [
      "\r",
      " 10%|█         | 1/10 [00:13<02:02, 13.66s/it]"
     ]
    },
    {
     "name": "stdout",
     "output_type": "stream",
     "text": [
      "6/6 [==============================] - 12s 2s/step\n"
     ]
    },
    {
     "name": "stderr",
     "output_type": "stream",
     "text": [
      "\r",
      " 20%|██        | 2/10 [00:27<01:48, 13.52s/it]"
     ]
    },
    {
     "name": "stdout",
     "output_type": "stream",
     "text": [
      "6/6 [==============================] - 12s 2s/step\n"
     ]
    },
    {
     "name": "stderr",
     "output_type": "stream",
     "text": [
      "\r",
      " 30%|███       | 3/10 [00:40<01:35, 13.63s/it]"
     ]
    },
    {
     "name": "stdout",
     "output_type": "stream",
     "text": [
      "6/6 [==============================] - 12s 2s/step\n"
     ]
    },
    {
     "name": "stderr",
     "output_type": "stream",
     "text": [
      "\r",
      " 40%|████      | 4/10 [00:54<01:22, 13.67s/it]"
     ]
    },
    {
     "name": "stdout",
     "output_type": "stream",
     "text": [
      "6/6 [==============================] - 11s 2s/step\n"
     ]
    },
    {
     "name": "stderr",
     "output_type": "stream",
     "text": [
      "\r",
      " 50%|█████     | 5/10 [01:07<01:06, 13.37s/it]"
     ]
    },
    {
     "name": "stdout",
     "output_type": "stream",
     "text": [
      "6/6 [==============================] - 10s 2s/step\n"
     ]
    },
    {
     "name": "stderr",
     "output_type": "stream",
     "text": [
      "\r",
      " 60%|██████    | 6/10 [01:19<00:51, 12.93s/it]"
     ]
    },
    {
     "name": "stdout",
     "output_type": "stream",
     "text": [
      "6/6 [==============================] - 10s 2s/step\n"
     ]
    },
    {
     "name": "stderr",
     "output_type": "stream",
     "text": [
      "\r",
      " 70%|███████   | 7/10 [01:32<00:39, 13.09s/it]"
     ]
    },
    {
     "name": "stdout",
     "output_type": "stream",
     "text": [
      "6/6 [==============================] - 11s 2s/step\n"
     ]
    },
    {
     "name": "stderr",
     "output_type": "stream",
     "text": [
      "\r",
      " 80%|████████  | 8/10 [01:46<00:26, 13.26s/it]"
     ]
    },
    {
     "name": "stdout",
     "output_type": "stream",
     "text": [
      "6/6 [==============================] - 12s 2s/step\n"
     ]
    },
    {
     "name": "stderr",
     "output_type": "stream",
     "text": [
      "\r",
      " 90%|█████████ | 9/10 [02:00<00:13, 13.35s/it]"
     ]
    },
    {
     "name": "stdout",
     "output_type": "stream",
     "text": [
      "6/6 [==============================] - 12s 2s/step\n"
     ]
    },
    {
     "name": "stderr",
     "output_type": "stream",
     "text": [
      "100%|██████████| 10/10 [02:13<00:00, 13.37s/it]\n"
     ]
    }
   ],
   "source": [
    "store_results['vgg_wrist_no_class_weights']=evaluate_model(body_part='XR_WRIST',model=vgg19_model)"
   ]
  },
  {
   "cell_type": "code",
   "execution_count": null,
   "metadata": {
    "colab": {
     "base_uri": "https://localhost:8080/"
    },
    "executionInfo": {
     "elapsed": 15,
     "status": "ok",
     "timestamp": 1687426897831,
     "user": {
      "displayName": "Σπύρος Μαστροδημήτρης",
      "userId": "05822789757280910665"
     },
     "user_tz": -180
    },
    "id": "i_Dr2DKIx57l",
    "outputId": "d89dd45f-6e97-49a6-c5ff-15a222596fd7"
   },
   "outputs": [
    {
     "data": {
      "text/plain": [
       "0.4986345628678026"
      ]
     },
     "execution_count": 60,
     "metadata": {},
     "output_type": "execute_result"
    }
   ],
   "source": [
    "store_results['vgg_wrist_no_class_weights'][0]"
   ]
  },
  {
   "cell_type": "code",
   "execution_count": null,
   "metadata": {
    "colab": {
     "base_uri": "https://localhost:8080/"
    },
    "executionInfo": {
     "elapsed": 12,
     "status": "ok",
     "timestamp": 1687426897832,
     "user": {
      "displayName": "Σπύρος Μαστροδημήτρης",
      "userId": "05822789757280910665"
     },
     "user_tz": -180
    },
    "id": "GxJLsaYEx57l",
    "outputId": "f96fee73-6048-4831-f0ca-4067e3a8aa33"
   },
   "outputs": [
    {
     "data": {
      "text/plain": [
       "0.5034006422102014"
      ]
     },
     "execution_count": 61,
     "metadata": {},
     "output_type": "execute_result"
    }
   ],
   "source": [
    "cohen_kappa_score(true_labels,y_pred)"
   ]
  },
  {
   "cell_type": "markdown",
   "metadata": {
    "id": "OsmJ0DjPI_4L"
   },
   "source": [
    "## Comulative Results"
   ]
  },
  {
   "cell_type": "code",
   "execution_count": null,
   "metadata": {
    "colab": {
     "base_uri": "https://localhost:8080/"
    },
    "executionInfo": {
     "elapsed": 11,
     "status": "ok",
     "timestamp": 1687426897833,
     "user": {
      "displayName": "Σπύρος Μαστροδημήτρης",
      "userId": "05822789757280910665"
     },
     "user_tz": -180
    },
    "id": "624UeROwx57l",
    "outputId": "87ed97e0-5da8-4d44-9dff-8eacc111aab5"
   },
   "outputs": [
    {
     "name": "stdout",
     "output_type": "stream",
     "text": [
      "vgg_elbow_no_class_weights: Kappa Score 0.534 f1 0.685\n",
      "vgg_finger_no_class_weights: Kappa Score 0.428 f1 0.702\n",
      "vgg_wrist_no_class_weights: Kappa Score 0.499 f1 0.671\n"
     ]
    }
   ],
   "source": [
    "for k,v in store_results.items():\n",
    "  print('{}: Kappa Score {:.3f} f1 {:.3f}'.format(k,v[0],v[1]))"
   ]
  }
 ],
 "metadata": {
  "accelerator": "GPU",
  "colab": {
   "collapsed_sections": [
    "dOFoY7XLJXYp",
    "-8s-rTnnJaxf",
    "hRFacfKdJfdJ",
    "0AhProTsYi7T",
    "-zSJBRL6YoKC",
    "Ac9qKFxMZYUr",
    "Ca7655u0YuZG",
    "SXzSVxG_ZM9R",
    "owKLIbp-ZdqU",
    "X08eHVFJaiar",
    "G7Jelgsiay2N",
    "_HB2f9KOEKSj",
    "OsmJ0DjPI_4L"
   ],
   "gpuType": "T4",
   "provenance": []
  },
  "kernelspec": {
   "display_name": "Python 3 (ipykernel)",
   "language": "python",
   "name": "python3"
  },
  "language_info": {
   "codemirror_mode": {
    "name": "ipython",
    "version": 3
   },
   "file_extension": ".py",
   "mimetype": "text/x-python",
   "name": "python",
   "nbconvert_exporter": "python",
   "pygments_lexer": "ipython3",
   "version": "3.9.12"
  }
 },
 "nbformat": 4,
 "nbformat_minor": 1
}
